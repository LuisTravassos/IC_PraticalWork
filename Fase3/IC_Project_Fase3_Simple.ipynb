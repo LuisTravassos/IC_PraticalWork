{
 "cells": [
  {
   "cell_type": "code",
   "execution_count": 1,
   "id": "bb30917d",
   "metadata": {},
   "outputs": [],
   "source": [
    "# Importações essenciais para o projeto\n",
    "import numpy as np\n",
    "import pandas as pd\n",
    "import os\n",
    "\n",
    "# TensorFlow e Keras para construção e treinamento de modelos de rede neural\n",
    "from tensorflow.keras.layers import Conv2D, MaxPooling2D, Flatten, Dense, Dropout, Input\n",
    "from tensorflow.keras.models import Sequential, Model\n",
    "from tensorflow.keras.optimizers import Adam\n",
    "from tensorflow.keras.preprocessing.image import load_img, img_to_array\n",
    "from tensorflow.keras.utils import to_categorical\n",
    "from tensorflow.keras.applications import VGG16\n",
    "\n",
    "# Scikit-learn para pré-processamento de dados, divisão de conjunto de dados e métricas de avaliação\n",
    "from sklearn.model_selection import train_test_split\n",
    "from sklearn.metrics import confusion_matrix, classification_report, roc_auc_score\n",
    "from sklearn.preprocessing import LabelEncoder, label_binarize\n",
    "from sklearn.utils import shuffle\n",
    "\n",
    "# Bibliotecas de Otimização por Enxame de Partículas\n",
    "from SwarmPackagePy import gwo\n",
    "import pyswarms as ps"
   ]
  },
  {
   "cell_type": "code",
   "execution_count": 2,
   "id": "57818837",
   "metadata": {},
   "outputs": [],
   "source": [
    "# Preparação dos Dados\n",
    "def create_street_data(path, street_types, im_size):\n",
    "    images, labels = [], []\n",
    "    streets = [(item, os.path.join(path, item, street)) \n",
    "               for item in street_types \n",
    "               for street in os.listdir(os.path.join(path, item))]\n",
    "    streets_df = pd.DataFrame(streets, columns=['street type', 'image'])\n",
    "    \n",
    "    for _, row in streets_df.iterrows():\n",
    "        img = load_img(row['image'], target_size=(im_size, im_size))\n",
    "        images.append(img_to_array(img))\n",
    "        labels.append(row['street type'])\n",
    "    \n",
    "    return np.array(images, dtype='float32') / 255.0, np.array(labels)"
   ]
  },
  {
   "cell_type": "code",
   "execution_count": 3,
   "id": "3eb589dd",
   "metadata": {},
   "outputs": [],
   "source": [
    "# Define o tamanho da imagem\n",
    "im_size = 224\n",
    "\n",
    "# Define o tipo de imagem\n",
    "\"\"\"street_types = ['Apple', 'Banana', 'Cocos']\n",
    "path = '../DatasetFruits/'\n",
    "path_test = '../DatasetFruits_Test/'\"\"\"\n",
    "\n",
    "street_types = ['clean', 'litter', 'recycle']\n",
    "path = '../Dataset_Menor/'\n",
    "path_test = '../Dataset_Test/'"
   ]
  },
  {
   "cell_type": "code",
   "execution_count": 4,
   "id": "fa9f77c2",
   "metadata": {},
   "outputs": [
    {
     "name": "stdout",
     "output_type": "stream",
     "text": [
      "Streets in each category: clean      50\n",
      "litter     50\n",
      "recycle    50\n",
      "dtype: int64\n"
     ]
    }
   ],
   "source": [
    "# Criar dados de treino, validação e teste\n",
    "train_images, train_labels = create_street_data(path, street_types, im_size)\n",
    "test_images, test_labels = create_street_data(path_test, street_types, im_size)\n",
    "\n",
    "# Contar as ocorrencias de cada tipo de rua e mostrar\n",
    "streets_count = pd.value_counts(train_labels)\n",
    "print(\"Streets in each category:\", streets_count)"
   ]
  },
  {
   "cell_type": "code",
   "execution_count": 5,
   "id": "b32e0eb3",
   "metadata": {},
   "outputs": [
    {
     "name": "stdout",
     "output_type": "stream",
     "text": [
      "Train shape: (127, 224, 224, 3)\n",
      "Validation shape: (23, 224, 224, 3)\n",
      "Test shape: (1081, 224, 224, 3)\n"
     ]
    }
   ],
   "source": [
    "# Converter etiquetas para valores numéricos\n",
    "label_encoder = LabelEncoder()\n",
    "train_labels_encoded = label_encoder.fit_transform(train_labels)\n",
    "test_labels_encoded = label_encoder.transform(test_labels)\n",
    "\n",
    "# Baralhar e dividir os dados de treino e validação\n",
    "train_x, val_x, train_y, val_y = train_test_split(train_images, train_labels_encoded, test_size=0.15, random_state=415)\n",
    "\n",
    "# Imprimir as formas dos conjuntos de dados\n",
    "print(f\"Train shape: {train_x.shape}\")\n",
    "print(f\"Validation shape: {val_x.shape}\")\n",
    "print(f\"Test shape: {test_images.shape}\")"
   ]
  },
  {
   "cell_type": "code",
   "execution_count": 6,
   "id": "33f508aa",
   "metadata": {},
   "outputs": [
    {
     "name": "stdout",
     "output_type": "stream",
     "text": [
      "Epoch 1/5\n",
      "4/4 [==============================] - 15s 4s/step - loss: 1.1566 - accuracy: 0.3465 - val_loss: 1.0443 - val_accuracy: 0.4348\n",
      "Epoch 2/5\n",
      "4/4 [==============================] - 17s 5s/step - loss: 0.9093 - accuracy: 0.6142 - val_loss: 0.9435 - val_accuracy: 0.5217\n",
      "Epoch 3/5\n",
      "4/4 [==============================] - 19s 5s/step - loss: 0.7109 - accuracy: 0.8268 - val_loss: 0.8860 - val_accuracy: 0.5217\n",
      "Epoch 4/5\n",
      "4/4 [==============================] - 19s 5s/step - loss: 0.5977 - accuracy: 0.8819 - val_loss: 0.8057 - val_accuracy: 0.6087\n",
      "Epoch 5/5\n",
      "4/4 [==============================] - 18s 5s/step - loss: 0.4824 - accuracy: 0.9291 - val_loss: 0.7406 - val_accuracy: 0.6957\n"
     ]
    }
   ],
   "source": [
    "# Carregar o modelo VGG16 pré-treinado, sem as camadas superiores\n",
    "base_model = VGG16(weights='imagenet', include_top=False, input_shape=(im_size, im_size, 3))\n",
    "\n",
    "# Congelar as camadas do modelo base\n",
    "for layer in base_model.layers:\n",
    "    layer.trainable = False\n",
    "\n",
    "# Construção do modelo final com as melhores taxas de aprendizado e dropout encontradas pelo GWO\n",
    "x = base_model.output\n",
    "x = Flatten()(x)\n",
    "x = Dropout(0.1)(x)  # Usar o melhor dropout_rate encontrado pelo GWO\n",
    "x = Dense(len(street_types), activation='softmax')(x)  # Saída com base no número de tipos de rua\n",
    "\n",
    "# Montar o modelo final\n",
    "model = Model(inputs=base_model.input, outputs=x)\n",
    "\n",
    "# Compilar o modelo final com o melhor learning_rate encontrado pelo GWO\n",
    "model.compile(optimizer=Adam(0.0001),\n",
    "                    loss='sparse_categorical_crossentropy',\n",
    "                    metrics=['accuracy'])\n",
    "\n",
    "# Treinar o modelo final\n",
    "history = model.fit(train_x, \n",
    "                    train_y, \n",
    "                    epochs=5,\n",
    "                    validation_data=(val_x, val_y))"
   ]
  },
  {
   "cell_type": "code",
   "execution_count": 7,
   "id": "0e1165c5",
   "metadata": {},
   "outputs": [
    {
     "name": "stdout",
     "output_type": "stream",
     "text": [
      "34/34 [==============================] - 143s 4s/step - loss: 0.6279 - accuracy: 0.8261\n",
      "\n",
      "Acurácia no teste: 82.61%\n",
      "\n",
      "34/34 [==============================] - 160s 5s/step\n",
      "Matriz de Confusão:\n",
      "[[297  52  16]\n",
      " [ 67 266   8]\n",
      " [ 23  22 330]]\n",
      "\n",
      "Relatório de Classificação:\n",
      "              precision    recall  f1-score   support\n",
      "\n",
      "       clean       0.77      0.81      0.79       365\n",
      "      litter       0.78      0.78      0.78       341\n",
      "     recycle       0.93      0.88      0.91       375\n",
      "\n",
      "    accuracy                           0.83      1081\n",
      "   macro avg       0.83      0.82      0.83      1081\n",
      "weighted avg       0.83      0.83      0.83      1081\n",
      "\n",
      "AUC para a classe clean: 0.91\n",
      "AUC para a classe litter: 0.93\n",
      "AUC para a classe recycle: 0.98\n"
     ]
    }
   ],
   "source": [
    "# Avaliar o modelo final nos dados de teste\n",
    "test_loss, test_accuracy = model.evaluate(test_images, test_labels_encoded, verbose=1)\n",
    "print(f\"\\nAcurácia no teste: {test_accuracy*100:.2f}%\\n\")\n",
    "\n",
    "# Realizar previsões nos dados de teste\n",
    "y_pred_test = model.predict(test_images)\n",
    "y_pred_test_classes = np.argmax(y_pred_test, axis=1)\n",
    "\n",
    "# Matriz de confusão\n",
    "confusion_mtx = confusion_matrix(test_labels_encoded, y_pred_test_classes)\n",
    "print(\"Matriz de Confusão:\")\n",
    "print(confusion_mtx)\n",
    "\n",
    "# Relatório de classificação\n",
    "class_report = classification_report(test_labels_encoded, y_pred_test_classes, target_names=label_encoder.classes_)\n",
    "print(\"\\nRelatório de Classificação:\")\n",
    "print(class_report)\n",
    "\n",
    "# Binarizar as etiquetas para cálculo do AUC\n",
    "y_true_binarized = to_categorical(test_labels_encoded)\n",
    "\n",
    "# Calculando o AUC para cada classe\n",
    "for i in range(y_true_binarized.shape[1]):  # Percorrer cada classe\n",
    "    auc_score = roc_auc_score(y_true_binarized[:, i], y_pred_test[:, i])\n",
    "    print(f'AUC para a classe {label_encoder.classes_[i]}: {auc_score:.2f}')"
   ]
  },
  {
   "cell_type": "code",
   "execution_count": 8,
   "id": "7a7fdec3-2ad8-4670-944a-59b195290d6a",
   "metadata": {},
   "outputs": [
    {
     "name": "stdout",
     "output_type": "stream",
     "text": [
      "Resultados exportados para o arquivo 'resultados_modelo.xlsx'\n"
     ]
    }
   ],
   "source": [
    "# Dados das formas dos conjuntos\n",
    "shapes_data = {\n",
    "    'Conjunto': ['Treino', 'Validação', 'Teste'],\n",
    "    'Formato': [train_x.shape, val_x.shape, test_images.shape]\n",
    "}\n",
    "df_shapes = pd.DataFrame(shapes_data)\n",
    "\n",
    "# Dados da matriz de confusão\n",
    "df_confusion_mtx = pd.DataFrame(confusion_mtx, index=label_encoder.classes_, columns=label_encoder.classes_)\n",
    "\n",
    "# Dados do relatório de classificação\n",
    "report_data = classification_report(test_labels_encoded, y_pred_test_classes, target_names=label_encoder.classes_, output_dict=True)\n",
    "df_class_report = pd.DataFrame(report_data).transpose()\n",
    "\n",
    "# Dados do AUC\n",
    "auc_scores = {label_encoder.classes_[i]: roc_auc_score(y_true_binarized[:, i], y_pred_test[:, i]) for i in range(y_true_binarized.shape[1])}\n",
    "df_auc_scores = pd.DataFrame(list(auc_scores.items()), columns=['Classe', 'AUC'])\n",
    "\n",
    "# Criação do escritor Excel com o pandas\n",
    "with pd.ExcelWriter('resultados_modelo.xlsx') as writer:\n",
    "    df_shapes.to_excel(writer, sheet_name='Formas dos Conjuntos', index=False)\n",
    "    df_confusion_mtx.to_excel(writer, sheet_name='Matriz de Confusão')\n",
    "    df_class_report.to_excel(writer, sheet_name='Relatório de Classificação')\n",
    "    df_auc_scores.to_excel(writer, sheet_name='AUC por Classe', index=False)\n",
    "\n",
    "print(\"Resultados exportados para o arquivo 'IC_Project_Fase3_Simple_Excel.xlsx'\")"
   ]
  },
  {
   "cell_type": "code",
   "execution_count": 9,
   "id": "fb4cbb99",
   "metadata": {},
   "outputs": [
    {
     "name": "stdout",
     "output_type": "stream",
     "text": [
      "Modelo salvo com sucesso em: IC_Project_Fase3_Simple_SaveModel.h5\n"
     ]
    }
   ],
   "source": [
    "# Definir o caminho e o nome do arquivo para salvar o modelo\n",
    "model_save_path = 'IC_Project_Fase3_Simple_SaveModel.h5'\n",
    "\n",
    "# Salvar o modelo\n",
    "model.save(model_save_path)\n",
    "print(f\"Modelo salvo com sucesso em: {model_save_path}\")"
   ]
  }
 ],
 "metadata": {
  "kernelspec": {
   "display_name": "Python 3 (ipykernel)",
   "language": "python",
   "name": "python3"
  },
  "language_info": {
   "codemirror_mode": {
    "name": "ipython",
    "version": 3
   },
   "file_extension": ".py",
   "mimetype": "text/x-python",
   "name": "python",
   "nbconvert_exporter": "python",
   "pygments_lexer": "ipython3",
   "version": "3.9.18"
  },
  "toc-showcode": false,
  "toc-showmarkdowntxt": false
 },
 "nbformat": 4,
 "nbformat_minor": 5
}
