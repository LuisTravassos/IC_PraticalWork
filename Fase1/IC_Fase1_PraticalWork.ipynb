{
 "cells": [
  {
   "cell_type": "code",
   "execution_count": 13,
   "id": "1a7fa490",
   "metadata": {},
   "outputs": [],
   "source": [
    "#import libraries\n",
    "\n",
    "from tensorflow.keras.preprocessing.image import ImageDataGenerator\n",
    "from tensorflow.keras.preprocessing import image\n",
    "from tensorflow.keras.optimizers import RMSprop\n",
    "from sklearn.metrics import confusion_matrix\n",
    "from sklearn.metrics import accuracy_score, classification_report, roc_auc_score\n",
    "import matplotlib.pyplot as plt\n",
    "import tensorflow as tf\n",
    "import numpy as np\n",
    "import cv2\n",
    "import os"
   ]
  },
  {
   "cell_type": "code",
   "execution_count": 14,
   "id": "3b81feac",
   "metadata": {},
   "outputs": [],
   "source": [
    "#Configuração dos geradores de dados de treinamento e validação\n",
    "\n",
    "train = ImageDataGenerator(rescale=1/255) #Normalizar os valores de pixels para o intervalo [0,1]\n",
    "validation = ImageDataGenerator(rescale=1/255)\n",
    "test = ImageDataGenerator(rescale=1/255)"
   ]
  },
  {
   "cell_type": "code",
   "execution_count": 15,
   "id": "7c4a0889",
   "metadata": {},
   "outputs": [
    {
     "name": "stdout",
     "output_type": "stream",
     "text": [
      "Found 3213 images belonging to 3 classes.\n",
      "Found 1140 images belonging to 3 classes.\n",
      "Found 1052 images belonging to 3 classes.\n"
     ]
    }
   ],
   "source": [
    "#Carregar os dados de treinamento e validação\n",
    "\n",
    "train_dataset = train.flow_from_directory('Dataset/training/',\n",
    "                                         target_size = (200,200), #Redimensionar as imagens para 200x200 pixels\n",
    "                                         batch_size = 3, #numero de pixels por lote\n",
    "                                         class_mode = 'categorical') #Modo de classificação (categorica)\n",
    "\n",
    "validation_dataset = train.flow_from_directory('Dataset/validation/',\n",
    "                                         target_size = (200,200),\n",
    "                                         batch_size = 3,\n",
    "                                         class_mode = 'categorical')\n",
    "\n",
    "test_dataset = test.flow_from_directory('Dataset/testing/',\n",
    "                                         target_size=(200,200),\n",
    "                                         batch_size=3,\n",
    "                                         class_mode='categorical')"
   ]
  },
  {
   "cell_type": "code",
   "execution_count": 16,
   "id": "a852a973",
   "metadata": {},
   "outputs": [
    {
     "data": {
      "text/plain": [
       "{'clean': 0, 'litter': 1, 'recycle': 2}"
      ]
     },
     "execution_count": 16,
     "metadata": {},
     "output_type": "execute_result"
    }
   ],
   "source": [
    "#Verificar os indices das classes\n",
    "\n",
    "train_dataset.class_indices"
   ]
  },
  {
   "cell_type": "code",
   "execution_count": 17,
   "id": "c1f9ac51",
   "metadata": {
    "scrolled": true
   },
   "outputs": [],
   "source": [
    "# Definindo o modelo da rede neural (MLP)\n",
    "\n",
    "model = tf.keras.models.Sequential([\n",
    "    tf.keras.layers.Flatten(input_shape=(200, 200, 3)),  # Transforma os dados em um vetor\n",
    "    tf.keras.layers.Dense(512, activation='relu'),  # Camada densa com ativação ReLU\n",
    "    tf.keras.layers.Dropout(0.5),  # Adicionando Dropout para reduzir overfitting\n",
    "    tf.keras.layers.BatchNormalization(),  # Adicionando normalização em lotes\n",
    "    tf.keras.layers.Dense(256, activation='relu'),  # Camada densa com ativação ReLU\n",
    "    tf.keras.layers.Dense(128, activation='relu'),  # Adicionando mais uma camada densa\n",
    "    tf.keras.layers.Dense(3, activation='softmax')  # Camada de saída com ativação softmax (três classes)\n",
    "])"
   ]
  },
  {
   "cell_type": "code",
   "execution_count": 18,
   "id": "84045a03",
   "metadata": {},
   "outputs": [],
   "source": [
    "# Compilando o modelo com uma taxa de aprendizado ajustada\n",
    "\n",
    "model.compile(optimizer = RMSprop(learning_rate=0.0001), #Otimizador RMSprop com taxa de aprendizado de 0.001\n",
    "             loss = 'binary_crossentropy', #Função de perda para classificação multiclasse\n",
    "             metrics=['accuracy']) #Métrica para avaliação do modelo"
   ]
  },
  {
   "cell_type": "code",
   "execution_count": 19,
   "id": "81256de6",
   "metadata": {
    "scrolled": true
   },
   "outputs": [
    {
     "name": "stdout",
     "output_type": "stream",
     "text": [
      "Epoch 1/50\n",
      "3/3 [==============================] - 6s 1s/step - loss: 0.6667 - accuracy: 0.6667 - val_loss: 1.2261 - val_accuracy: 0.2222\n",
      "Epoch 2/50\n",
      "3/3 [==============================] - 3s 1s/step - loss: 0.7597 - accuracy: 0.1111 - val_loss: 1.5893 - val_accuracy: 0.1111\n",
      "Epoch 3/50\n",
      "3/3 [==============================] - 2s 842ms/step - loss: 0.6293 - accuracy: 0.5556 - val_loss: 1.0285 - val_accuracy: 0.2222\n",
      "Epoch 4/50\n",
      "3/3 [==============================] - 3s 1s/step - loss: 0.6617 - accuracy: 0.4444 - val_loss: 0.6695 - val_accuracy: 0.3333\n",
      "Epoch 5/50\n",
      "3/3 [==============================] - 2s 836ms/step - loss: 0.7399 - accuracy: 0.3333 - val_loss: 0.8620 - val_accuracy: 0.4444\n",
      "Epoch 6/50\n",
      "3/3 [==============================] - 2s 827ms/step - loss: 0.7014 - accuracy: 0.3333 - val_loss: 1.1693 - val_accuracy: 0.1111\n",
      "Epoch 7/50\n",
      "3/3 [==============================] - 2s 708ms/step - loss: 0.6898 - accuracy: 0.2222 - val_loss: 0.6951 - val_accuracy: 0.4444\n",
      "Epoch 8/50\n",
      "3/3 [==============================] - 2s 689ms/step - loss: 0.6315 - accuracy: 0.5556 - val_loss: 0.9069 - val_accuracy: 0.2222\n",
      "Epoch 9/50\n",
      "3/3 [==============================] - 3s 1s/step - loss: 0.6186 - accuracy: 0.6667 - val_loss: 0.7010 - val_accuracy: 0.3333\n",
      "Epoch 10/50\n",
      "3/3 [==============================] - 3s 1s/step - loss: 0.6867 - accuracy: 0.0000e+00 - val_loss: 0.8057 - val_accuracy: 0.1111\n",
      "Epoch 11/50\n",
      "3/3 [==============================] - 3s 1s/step - loss: 0.7435 - accuracy: 0.2222 - val_loss: 0.6996 - val_accuracy: 0.5556\n",
      "Epoch 12/50\n",
      "3/3 [==============================] - 2s 731ms/step - loss: 0.6883 - accuracy: 0.3333 - val_loss: 0.7129 - val_accuracy: 0.3333\n",
      "Epoch 13/50\n",
      "3/3 [==============================] - 3s 1s/step - loss: 0.6132 - accuracy: 0.4444 - val_loss: 1.1543 - val_accuracy: 0.2222\n",
      "Epoch 14/50\n",
      "3/3 [==============================] - 2s 924ms/step - loss: 0.6499 - accuracy: 0.3333 - val_loss: 0.7040 - val_accuracy: 0.4444\n",
      "Epoch 15/50\n",
      "3/3 [==============================] - 3s 1s/step - loss: 0.6216 - accuracy: 0.6667 - val_loss: 0.7103 - val_accuracy: 0.3333\n",
      "Epoch 16/50\n",
      "3/3 [==============================] - 2s 939ms/step - loss: 0.6270 - accuracy: 0.4444 - val_loss: 0.7475 - val_accuracy: 0.4444\n",
      "Epoch 17/50\n",
      "3/3 [==============================] - 2s 725ms/step - loss: 0.6166 - accuracy: 0.3333 - val_loss: 0.7292 - val_accuracy: 0.3333\n",
      "Epoch 18/50\n",
      "3/3 [==============================] - 2s 568ms/step - loss: 0.6679 - accuracy: 0.2222 - val_loss: 0.7646 - val_accuracy: 0.2222\n",
      "Epoch 19/50\n",
      "3/3 [==============================] - 2s 582ms/step - loss: 0.6366 - accuracy: 0.2222 - val_loss: 0.6874 - val_accuracy: 0.4444\n",
      "Epoch 20/50\n",
      "3/3 [==============================] - 1s 554ms/step - loss: 0.6834 - accuracy: 0.3333 - val_loss: 0.7971 - val_accuracy: 0.5556\n",
      "Epoch 21/50\n",
      "3/3 [==============================] - 1s 455ms/step - loss: 0.6087 - accuracy: 0.5556 - val_loss: 0.7199 - val_accuracy: 0.4444\n",
      "Epoch 22/50\n",
      "3/3 [==============================] - 1s 532ms/step - loss: 0.6518 - accuracy: 0.5556 - val_loss: 0.7708 - val_accuracy: 0.2222\n",
      "Epoch 23/50\n",
      "3/3 [==============================] - 2s 608ms/step - loss: 0.5918 - accuracy: 0.5556 - val_loss: 0.7581 - val_accuracy: 0.4444\n",
      "Epoch 24/50\n",
      "3/3 [==============================] - 2s 822ms/step - loss: 0.5753 - accuracy: 0.6667 - val_loss: 0.8336 - val_accuracy: 0.2222\n",
      "Epoch 25/50\n",
      "3/3 [==============================] - 1s 500ms/step - loss: 0.5665 - accuracy: 0.4444 - val_loss: 0.6996 - val_accuracy: 0.4444\n",
      "Epoch 26/50\n",
      "3/3 [==============================] - 1s 423ms/step - loss: 0.6448 - accuracy: 0.5556 - val_loss: 0.7915 - val_accuracy: 0.3333\n",
      "Epoch 27/50\n",
      "3/3 [==============================] - 1s 484ms/step - loss: 0.7327 - accuracy: 0.1111 - val_loss: 0.5626 - val_accuracy: 0.4444\n",
      "Epoch 28/50\n",
      "3/3 [==============================] - 1s 434ms/step - loss: 0.6983 - accuracy: 0.1111 - val_loss: 0.6786 - val_accuracy: 0.2222\n",
      "Epoch 29/50\n",
      "3/3 [==============================] - 1s 462ms/step - loss: 0.6817 - accuracy: 0.2222 - val_loss: 0.6155 - val_accuracy: 0.4444\n",
      "Epoch 30/50\n",
      "3/3 [==============================] - 1s 486ms/step - loss: 0.6107 - accuracy: 0.4444 - val_loss: 0.7291 - val_accuracy: 0.3333\n",
      "Epoch 31/50\n",
      "3/3 [==============================] - 1s 460ms/step - loss: 0.6724 - accuracy: 0.2222 - val_loss: 0.6868 - val_accuracy: 0.4444\n",
      "Epoch 32/50\n",
      "3/3 [==============================] - 2s 767ms/step - loss: 0.6138 - accuracy: 0.3333 - val_loss: 0.6862 - val_accuracy: 0.3333\n",
      "Epoch 33/50\n",
      "3/3 [==============================] - 1s 477ms/step - loss: 0.5945 - accuracy: 0.5556 - val_loss: 0.5437 - val_accuracy: 0.5556\n",
      "Epoch 34/50\n",
      "3/3 [==============================] - 1s 405ms/step - loss: 0.6963 - accuracy: 0.3333 - val_loss: 0.5391 - val_accuracy: 0.6667\n",
      "Epoch 35/50\n",
      "3/3 [==============================] - 2s 659ms/step - loss: 0.5959 - accuracy: 0.5556 - val_loss: 0.6300 - val_accuracy: 0.3333\n",
      "Epoch 36/50\n",
      "3/3 [==============================] - 1s 536ms/step - loss: 0.6044 - accuracy: 0.6667 - val_loss: 0.6179 - val_accuracy: 0.5556\n",
      "Epoch 37/50\n",
      "3/3 [==============================] - 1s 489ms/step - loss: 0.6471 - accuracy: 0.4444 - val_loss: 0.6219 - val_accuracy: 0.4444\n",
      "Epoch 38/50\n",
      "3/3 [==============================] - 3s 2s/step - loss: 0.6319 - accuracy: 0.3333 - val_loss: 0.6452 - val_accuracy: 0.2222\n",
      "Epoch 39/50\n",
      "3/3 [==============================] - 3s 1s/step - loss: 0.5643 - accuracy: 0.4444 - val_loss: 0.7072 - val_accuracy: 0.1111\n",
      "Epoch 40/50\n",
      "3/3 [==============================] - 2s 599ms/step - loss: 0.6143 - accuracy: 0.4444 - val_loss: 0.7448 - val_accuracy: 0.1111\n",
      "Epoch 41/50\n",
      "3/3 [==============================] - 4s 2s/step - loss: 0.6826 - accuracy: 0.3333 - val_loss: 0.5222 - val_accuracy: 0.8889\n",
      "Epoch 42/50\n",
      "3/3 [==============================] - 2s 892ms/step - loss: 0.7028 - accuracy: 0.1111 - val_loss: 0.6057 - val_accuracy: 0.6667\n",
      "Epoch 43/50\n",
      "3/3 [==============================] - 2s 636ms/step - loss: 0.6063 - accuracy: 0.6667 - val_loss: 0.6337 - val_accuracy: 0.4444\n",
      "Epoch 44/50\n",
      "3/3 [==============================] - 2s 561ms/step - loss: 0.6920 - accuracy: 0.1111 - val_loss: 0.6350 - val_accuracy: 0.5556\n",
      "Epoch 45/50\n",
      "3/3 [==============================] - 2s 733ms/step - loss: 0.6593 - accuracy: 0.3333 - val_loss: 0.6345 - val_accuracy: 0.5556\n",
      "Epoch 46/50\n",
      "3/3 [==============================] - 3s 547ms/step - loss: 0.6092 - accuracy: 0.4444 - val_loss: 0.7067 - val_accuracy: 0.2222\n",
      "Epoch 47/50\n",
      "3/3 [==============================] - 3s 1s/step - loss: 0.5846 - accuracy: 0.5556 - val_loss: 0.6268 - val_accuracy: 0.4444\n",
      "Epoch 48/50\n",
      "3/3 [==============================] - 2s 573ms/step - loss: 0.6249 - accuracy: 0.3333 - val_loss: 0.6558 - val_accuracy: 0.3333\n",
      "Epoch 49/50\n",
      "3/3 [==============================] - 2s 833ms/step - loss: 0.6417 - accuracy: 0.3333 - val_loss: 0.5747 - val_accuracy: 0.4444\n",
      "Epoch 50/50\n",
      "3/3 [==============================] - 2s 944ms/step - loss: 0.6475 - accuracy: 0.5556 - val_loss: 0.6669 - val_accuracy: 0.2222\n"
     ]
    }
   ],
   "source": [
    "# Treinando o modelo\n",
    "\n",
    "history = model.fit(train_dataset,\n",
    "          steps_per_epoch=3,  # Número total de lotes (batches) por época\n",
    "          epochs=50,  # Número de épocas de treinamento\n",
    "          validation_data=validation_dataset,  # Dados de validação\n",
    "          validation_steps=3)  # Número total de lotes (batches) de validação"
   ]
  },
  {
   "cell_type": "code",
   "execution_count": 20,
   "id": "4190dfad",
   "metadata": {},
   "outputs": [
    {
     "name": "stdout",
     "output_type": "stream",
     "text": [
      "351/351 [==============================] - 48s 136ms/step\n"
     ]
    }
   ],
   "source": [
    "# Avaliação no conjunto de teste\n",
    "\n",
    "y_pred = model.predict(test_dataset)\n",
    "y_true = test_dataset.classes"
   ]
  },
  {
   "cell_type": "code",
   "execution_count": 21,
   "id": "ffd6e38c",
   "metadata": {},
   "outputs": [],
   "source": [
    "# Calculando a matriz de confusão\n",
    "\n",
    "conf_matrix = confusion_matrix(y_true, y_pred.argmax(axis=1))"
   ]
  },
  {
   "cell_type": "code",
   "execution_count": 22,
   "id": "e6fea5ca",
   "metadata": {},
   "outputs": [],
   "source": [
    "# Calculando outras métricas\n",
    "\n",
    "accuracy = accuracy_score(y_true, y_pred.argmax(axis=1))\n",
    "classification_rep = classification_report(y_true, y_pred.argmax(axis=1), zero_division=1)\n",
    "roc_auc = roc_auc_score(y_true, y_pred, multi_class='ovr')"
   ]
  },
  {
   "cell_type": "code",
   "execution_count": 23,
   "id": "069150e6",
   "metadata": {},
   "outputs": [
    {
     "name": "stdout",
     "output_type": "stream",
     "text": [
      "Matriz de Confusão:\n",
      "[[300   2  58]\n",
      " [312   2  54]\n",
      " [280   3  41]]\n",
      "\n",
      "Accuracy: 0.32604562737642584\n",
      "\n",
      "Classification Report:\n",
      "              precision    recall  f1-score   support\n",
      "\n",
      "           0       0.34      0.83      0.48       360\n",
      "           1       0.29      0.01      0.01       368\n",
      "           2       0.27      0.13      0.17       324\n",
      "\n",
      "    accuracy                           0.33      1052\n",
      "   macro avg       0.30      0.32      0.22      1052\n",
      "weighted avg       0.30      0.33      0.22      1052\n",
      "\n",
      "\n",
      "AUC-ROC: 0.5043751755139869\n"
     ]
    }
   ],
   "source": [
    "# Exibindo os resultados\n",
    "print(\"Matriz de Confusão:\")\n",
    "print(conf_matrix)\n",
    "\n",
    "print(\"\\nAccuracy:\", accuracy)\n",
    "print(\"\\nClassification Report:\")\n",
    "print(classification_rep)\n",
    "print(\"\\nAUC-ROC:\", roc_auc)"
   ]
  }
 ],
 "metadata": {
  "kernelspec": {
   "display_name": "Python 3 (ipykernel)",
   "language": "python",
   "name": "python3"
  },
  "language_info": {
   "codemirror_mode": {
    "name": "ipython",
    "version": 3
   },
   "file_extension": ".py",
   "mimetype": "text/x-python",
   "name": "python",
   "nbconvert_exporter": "python",
   "pygments_lexer": "ipython3",
   "version": "3.9.18"
  }
 },
 "nbformat": 4,
 "nbformat_minor": 5
}
