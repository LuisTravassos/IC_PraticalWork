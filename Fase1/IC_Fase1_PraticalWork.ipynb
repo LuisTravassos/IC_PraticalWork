{
 "cells": [
  {
   "cell_type": "code",
   "execution_count": 1,
   "id": "1a7fa490",
   "metadata": {},
   "outputs": [],
   "source": [
    "#import libraries\n",
    "\n",
    "from tensorflow.keras.preprocessing.image import ImageDataGenerator\n",
    "from tensorflow.keras.preprocessing import image\n",
    "from tensorflow.keras.optimizers import RMSprop\n",
    "from sklearn.metrics import confusion_matrix\n",
    "from sklearn.metrics import accuracy_score, classification_report, roc_auc_score\n",
    "import matplotlib.pyplot as plt\n",
    "import tensorflow as tf\n",
    "import numpy as np\n",
    "import cv2\n",
    "import os"
   ]
  },
  {
   "cell_type": "code",
   "execution_count": 2,
   "id": "3b81feac",
   "metadata": {},
   "outputs": [],
   "source": [
    "#Configuração dos geradores de dados de treinamento e validação\n",
    "\n",
    "train = ImageDataGenerator(rescale=1/255) #Normalizar os valores de pixels para o intervalo [0,1]\n",
    "validation = ImageDataGenerator(rescale=1/255)\n",
    "test = ImageDataGenerator(rescale=1/255)"
   ]
  },
  {
   "cell_type": "code",
   "execution_count": 3,
   "id": "7c4a0889",
   "metadata": {},
   "outputs": [
    {
     "name": "stdout",
     "output_type": "stream",
     "text": [
      "Found 3213 images belonging to 3 classes.\n",
      "Found 1140 images belonging to 3 classes.\n",
      "Found 1052 images belonging to 3 classes.\n"
     ]
    }
   ],
   "source": [
    "#Carregar os dados de treinamento e validação\n",
    "\n",
    "train_dataset = train.flow_from_directory('Dataset/training/',\n",
    "                                         target_size = (200,200), #Redimensionar as imagens para 200x200 pixels\n",
    "                                         batch_size = 3, #numero de pixels por lote\n",
    "                                         class_mode = 'categorical') #Modo de classificação (categorica)\n",
    "\n",
    "validation_dataset = train.flow_from_directory('Dataset/validation/',\n",
    "                                         target_size = (200,200),\n",
    "                                         batch_size = 3,\n",
    "                                         class_mode = 'categorical')\n",
    "\n",
    "test_dataset = test.flow_from_directory('Dataset/testing/',\n",
    "                                         target_size=(200,200),\n",
    "                                         batch_size=3,\n",
    "                                         class_mode='categorical')"
   ]
  },
  {
   "cell_type": "code",
   "execution_count": 4,
   "id": "a852a973",
   "metadata": {},
   "outputs": [
    {
     "data": {
      "text/plain": [
       "{'clean': 0, 'litter': 1, 'recycle': 2}"
      ]
     },
     "execution_count": 4,
     "metadata": {},
     "output_type": "execute_result"
    }
   ],
   "source": [
    "#Verificar os indices das classes\n",
    "\n",
    "train_dataset.class_indices"
   ]
  },
  {
   "cell_type": "code",
   "execution_count": 5,
   "id": "c1f9ac51",
   "metadata": {
    "scrolled": true
   },
   "outputs": [],
   "source": [
    "# Definindo o modelo da rede neural (MLP)\n",
    "\n",
    "model = tf.keras.models.Sequential([\n",
    "    tf.keras.layers.Flatten(input_shape=(200, 200, 3)),  # Transforma os dados em um vetor\n",
    "    tf.keras.layers.Dense(512, activation='relu'),  # Camada densa com ativação ReLU\n",
    "    tf.keras.layers.Dropout(0.5),  # Adicionando Dropout para reduzir overfitting\n",
    "    tf.keras.layers.BatchNormalization(),  # Adicionando normalização em lotes\n",
    "    tf.keras.layers.Dense(256, activation='relu'),  # Camada densa com ativação ReLU\n",
    "    tf.keras.layers.Dense(128, activation='relu'),  # Adicionando mais uma camada densa\n",
    "    tf.keras.layers.Dense(3, activation='softmax')  # Camada de saída com ativação softmax (três classes)\n",
    "])"
   ]
  },
  {
   "cell_type": "code",
   "execution_count": 6,
   "id": "84045a03",
   "metadata": {},
   "outputs": [],
   "source": [
    "# Compilando o modelo com uma taxa de aprendizado ajustada\n",
    "\n",
    "model.compile(optimizer = RMSprop(learning_rate=0.0001), #Otimizador RMSprop com taxa de aprendizado de 0.001\n",
    "             loss = 'binary_crossentropy', #Função de perda para classificação multiclasse\n",
    "             metrics=['accuracy']) #Métrica para avaliação do modelo"
   ]
  },
  {
   "cell_type": "code",
   "execution_count": 7,
   "id": "81256de6",
   "metadata": {
    "scrolled": true
   },
   "outputs": [
    {
     "name": "stdout",
     "output_type": "stream",
     "text": [
      "Epoch 1/50\n",
      "3/3 [==============================] - 3s 565ms/step - loss: 0.6645 - accuracy: 0.5556 - val_loss: 0.9781 - val_accuracy: 0.5556\n",
      "Epoch 2/50\n",
      "3/3 [==============================] - 2s 391ms/step - loss: 0.7330 - accuracy: 0.2222 - val_loss: 1.0652 - val_accuracy: 0.3333\n",
      "Epoch 3/50\n",
      "3/3 [==============================] - 1s 461ms/step - loss: 0.7481 - accuracy: 0.2222 - val_loss: 1.0559 - val_accuracy: 0.3333\n",
      "Epoch 4/50\n",
      "3/3 [==============================] - 1s 486ms/step - loss: 0.7113 - accuracy: 0.3333 - val_loss: 0.9269 - val_accuracy: 0.5556\n",
      "Epoch 5/50\n",
      "3/3 [==============================] - 1s 446ms/step - loss: 0.7509 - accuracy: 0.2222 - val_loss: 0.6949 - val_accuracy: 0.4444\n",
      "Epoch 6/50\n",
      "3/3 [==============================] - 1s 415ms/step - loss: 0.7006 - accuracy: 0.4444 - val_loss: 0.6765 - val_accuracy: 0.4444\n",
      "Epoch 7/50\n",
      "3/3 [==============================] - 1s 553ms/step - loss: 0.6629 - accuracy: 0.2222 - val_loss: 0.6228 - val_accuracy: 0.5556\n",
      "Epoch 8/50\n",
      "3/3 [==============================] - 1s 462ms/step - loss: 0.6716 - accuracy: 0.4444 - val_loss: 0.7120 - val_accuracy: 0.3333\n",
      "Epoch 9/50\n",
      "3/3 [==============================] - 1s 497ms/step - loss: 0.6771 - accuracy: 0.2222 - val_loss: 0.8384 - val_accuracy: 0.2222\n",
      "Epoch 10/50\n",
      "3/3 [==============================] - 1s 440ms/step - loss: 0.6332 - accuracy: 0.5556 - val_loss: 0.7657 - val_accuracy: 0.3333\n",
      "Epoch 11/50\n",
      "3/3 [==============================] - 2s 851ms/step - loss: 0.6064 - accuracy: 0.5556 - val_loss: 0.7258 - val_accuracy: 0.3333\n",
      "Epoch 12/50\n",
      "3/3 [==============================] - 1s 486ms/step - loss: 0.6603 - accuracy: 0.3333 - val_loss: 1.0159 - val_accuracy: 0.1111\n",
      "Epoch 13/50\n",
      "3/3 [==============================] - 2s 643ms/step - loss: 0.6479 - accuracy: 0.3333 - val_loss: 0.5509 - val_accuracy: 0.5556\n",
      "Epoch 14/50\n",
      "3/3 [==============================] - 2s 636ms/step - loss: 0.6945 - accuracy: 0.3333 - val_loss: 0.6084 - val_accuracy: 0.4444\n",
      "Epoch 15/50\n",
      "3/3 [==============================] - 1s 384ms/step - loss: 0.6003 - accuracy: 0.5556 - val_loss: 0.6755 - val_accuracy: 0.3333\n",
      "Epoch 16/50\n",
      "3/3 [==============================] - 1s 522ms/step - loss: 0.6674 - accuracy: 0.2222 - val_loss: 0.6572 - val_accuracy: 0.3333\n",
      "Epoch 17/50\n",
      "3/3 [==============================] - 1s 472ms/step - loss: 0.7529 - accuracy: 0.1111 - val_loss: 0.5833 - val_accuracy: 0.4444\n",
      "Epoch 18/50\n",
      "3/3 [==============================] - 1s 411ms/step - loss: 0.6367 - accuracy: 0.3333 - val_loss: 0.5742 - val_accuracy: 0.5556\n",
      "Epoch 19/50\n",
      "3/3 [==============================] - 2s 679ms/step - loss: 0.6409 - accuracy: 0.3333 - val_loss: 0.7304 - val_accuracy: 0.3333\n",
      "Epoch 20/50\n",
      "3/3 [==============================] - 3s 1s/step - loss: 0.6751 - accuracy: 0.1111 - val_loss: 0.7214 - val_accuracy: 0.2222\n",
      "Epoch 21/50\n",
      "3/3 [==============================] - 1s 429ms/step - loss: 0.6520 - accuracy: 0.3333 - val_loss: 0.7401 - val_accuracy: 0.3333\n",
      "Epoch 22/50\n",
      "3/3 [==============================] - 1s 547ms/step - loss: 0.6711 - accuracy: 0.1111 - val_loss: 0.6452 - val_accuracy: 0.3333\n",
      "Epoch 23/50\n",
      "3/3 [==============================] - 2s 799ms/step - loss: 0.6575 - accuracy: 0.4444 - val_loss: 0.7357 - val_accuracy: 0.2222\n",
      "Epoch 24/50\n",
      "3/3 [==============================] - 2s 823ms/step - loss: 0.6240 - accuracy: 0.2222 - val_loss: 0.7940 - val_accuracy: 0.2222\n",
      "Epoch 25/50\n",
      "3/3 [==============================] - 1s 428ms/step - loss: 0.6291 - accuracy: 0.6667 - val_loss: 0.6489 - val_accuracy: 0.2222\n",
      "Epoch 26/50\n",
      "3/3 [==============================] - 2s 857ms/step - loss: 0.5993 - accuracy: 0.5556 - val_loss: 0.5311 - val_accuracy: 0.5556\n",
      "Epoch 27/50\n",
      "3/3 [==============================] - 1s 449ms/step - loss: 0.6616 - accuracy: 0.3333 - val_loss: 0.5920 - val_accuracy: 0.5556\n",
      "Epoch 28/50\n",
      "3/3 [==============================] - 2s 601ms/step - loss: 0.6514 - accuracy: 0.3333 - val_loss: 0.6434 - val_accuracy: 0.2222\n",
      "Epoch 29/50\n",
      "3/3 [==============================] - 1s 433ms/step - loss: 0.6149 - accuracy: 0.3333 - val_loss: 0.6036 - val_accuracy: 0.6667\n",
      "Epoch 30/50\n",
      "3/3 [==============================] - 2s 590ms/step - loss: 0.5665 - accuracy: 0.6667 - val_loss: 0.6730 - val_accuracy: 0.3333\n",
      "Epoch 31/50\n",
      "3/3 [==============================] - 1s 560ms/step - loss: 0.6774 - accuracy: 0.2222 - val_loss: 0.5867 - val_accuracy: 0.4444\n",
      "Epoch 32/50\n",
      "3/3 [==============================] - 1s 465ms/step - loss: 0.6246 - accuracy: 0.6667 - val_loss: 0.6845 - val_accuracy: 0.3333\n",
      "Epoch 33/50\n",
      "3/3 [==============================] - 1s 424ms/step - loss: 0.5979 - accuracy: 0.4444 - val_loss: 0.7807 - val_accuracy: 0.2222\n",
      "Epoch 34/50\n",
      "3/3 [==============================] - 1s 374ms/step - loss: 0.5163 - accuracy: 0.7778 - val_loss: 0.7213 - val_accuracy: 0.2222\n",
      "Epoch 35/50\n",
      "3/3 [==============================] - 2s 674ms/step - loss: 0.6375 - accuracy: 0.3333 - val_loss: 0.7009 - val_accuracy: 0.2222\n",
      "Epoch 36/50\n",
      "3/3 [==============================] - 1s 526ms/step - loss: 0.6337 - accuracy: 0.3333 - val_loss: 0.6482 - val_accuracy: 0.3333\n",
      "Epoch 37/50\n",
      "3/3 [==============================] - 1s 498ms/step - loss: 0.5326 - accuracy: 0.5556 - val_loss: 0.6047 - val_accuracy: 0.5556\n",
      "Epoch 38/50\n",
      "3/3 [==============================] - 2s 1s/step - loss: 0.6231 - accuracy: 0.4444 - val_loss: 0.6619 - val_accuracy: 0.4444\n",
      "Epoch 39/50\n",
      "3/3 [==============================] - 1s 421ms/step - loss: 0.6161 - accuracy: 0.5556 - val_loss: 0.6434 - val_accuracy: 0.4444\n",
      "Epoch 40/50\n",
      "3/3 [==============================] - 2s 430ms/step - loss: 0.5724 - accuracy: 0.4444 - val_loss: 0.6196 - val_accuracy: 0.4444\n",
      "Epoch 41/50\n",
      "3/3 [==============================] - 1s 441ms/step - loss: 0.6214 - accuracy: 0.5556 - val_loss: 0.7549 - val_accuracy: 0.4444\n",
      "Epoch 42/50\n",
      "3/3 [==============================] - 1s 393ms/step - loss: 0.5641 - accuracy: 0.6667 - val_loss: 0.6571 - val_accuracy: 0.3333\n",
      "Epoch 43/50\n",
      "3/3 [==============================] - 1s 506ms/step - loss: 0.5709 - accuracy: 0.6667 - val_loss: 0.7233 - val_accuracy: 0.3333\n",
      "Epoch 44/50\n",
      "3/3 [==============================] - 1s 409ms/step - loss: 0.5952 - accuracy: 0.6667 - val_loss: 0.6500 - val_accuracy: 0.5556\n",
      "Epoch 45/50\n",
      "3/3 [==============================] - 2s 636ms/step - loss: 0.6352 - accuracy: 0.5556 - val_loss: 0.5685 - val_accuracy: 0.5556\n",
      "Epoch 46/50\n",
      "3/3 [==============================] - 1s 448ms/step - loss: 0.6759 - accuracy: 0.1111 - val_loss: 0.6322 - val_accuracy: 0.3333\n",
      "Epoch 47/50\n",
      "3/3 [==============================] - 1s 382ms/step - loss: 0.5301 - accuracy: 0.6667 - val_loss: 0.6327 - val_accuracy: 0.4444\n",
      "Epoch 48/50\n",
      "3/3 [==============================] - 1s 445ms/step - loss: 0.6809 - accuracy: 0.0000e+00 - val_loss: 0.6671 - val_accuracy: 0.3333\n",
      "Epoch 49/50\n",
      "3/3 [==============================] - 1s 455ms/step - loss: 0.5429 - accuracy: 0.7778 - val_loss: 0.6307 - val_accuracy: 0.4444\n",
      "Epoch 50/50\n",
      "3/3 [==============================] - 1s 393ms/step - loss: 0.6144 - accuracy: 0.6667 - val_loss: 0.5674 - val_accuracy: 0.5556\n"
     ]
    }
   ],
   "source": [
    "# Treinando o modelo\n",
    "\n",
    "history = model.fit(train_dataset,\n",
    "          steps_per_epoch=3,  # Número total de lotes (batches) por época\n",
    "          epochs=50,  # Número de épocas de treinamento\n",
    "          validation_data=validation_dataset,  # Dados de validação\n",
    "          validation_steps=3)  # Número total de lotes (batches) de validação"
   ]
  },
  {
   "cell_type": "code",
   "execution_count": 8,
   "id": "4190dfad",
   "metadata": {},
   "outputs": [
    {
     "name": "stdout",
     "output_type": "stream",
     "text": [
      "351/351 [==============================] - 26s 73ms/step\n"
     ]
    }
   ],
   "source": [
    "# Avaliação no conjunto de teste\n",
    "\n",
    "y_pred = model.predict(test_dataset)\n",
    "y_true = test_dataset.classes"
   ]
  },
  {
   "cell_type": "code",
   "execution_count": 9,
   "id": "ffd6e38c",
   "metadata": {},
   "outputs": [],
   "source": [
    "# Calculando a matriz de confusão\n",
    "\n",
    "conf_matrix = confusion_matrix(y_true, y_pred.argmax(axis=1))"
   ]
  },
  {
   "cell_type": "code",
   "execution_count": 10,
   "id": "e6fea5ca",
   "metadata": {},
   "outputs": [],
   "source": [
    "# Calculando outras métricas\n",
    "\n",
    "accuracy = accuracy_score(y_true, y_pred.argmax(axis=1))\n",
    "classification_rep = classification_report(y_true, y_pred.argmax(axis=1))\n",
    "roc_auc = roc_auc_score(y_true, y_pred, multi_class='ovr')"
   ]
  },
  {
   "cell_type": "code",
   "execution_count": 11,
   "id": "069150e6",
   "metadata": {},
   "outputs": [
    {
     "name": "stdout",
     "output_type": "stream",
     "text": [
      "Matriz de Confusão:\n",
      "[[ 64   2 294]\n",
      " [ 64   3 301]\n",
      " [ 62   3 259]]\n",
      "\n",
      "Accuracy: 0.30988593155893535\n",
      "\n",
      "Classification Report:\n",
      "              precision    recall  f1-score   support\n",
      "\n",
      "           0       0.34      0.18      0.23       360\n",
      "           1       0.38      0.01      0.02       368\n",
      "           2       0.30      0.80      0.44       324\n",
      "\n",
      "    accuracy                           0.31      1052\n",
      "   macro avg       0.34      0.33      0.23      1052\n",
      "weighted avg       0.34      0.31      0.22      1052\n",
      "\n",
      "\n",
      "AUC-ROC: 0.4879049003836746\n"
     ]
    }
   ],
   "source": [
    "# Exibindo os resultados\n",
    "print(\"Matriz de Confusão:\")\n",
    "print(conf_matrix)\n",
    "\n",
    "print(\"\\nAccuracy:\", accuracy)\n",
    "print(\"\\nClassification Report:\")\n",
    "print(classification_rep)\n",
    "print(\"\\nAUC-ROC:\", roc_auc)"
   ]
  }
 ],
 "metadata": {
  "kernelspec": {
   "display_name": "Python 3 (ipykernel)",
   "language": "python",
   "name": "python3"
  },
  "language_info": {
   "codemirror_mode": {
    "name": "ipython",
    "version": 3
   },
   "file_extension": ".py",
   "mimetype": "text/x-python",
   "name": "python",
   "nbconvert_exporter": "python",
   "pygments_lexer": "ipython3",
   "version": "3.9.18"
  }
 },
 "nbformat": 4,
 "nbformat_minor": 5
}
