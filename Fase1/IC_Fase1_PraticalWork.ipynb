{
 "cells": [
  {
   "cell_type": "code",
   "execution_count": 10,
   "id": "1a7fa490",
   "metadata": {},
   "outputs": [],
   "source": [
    "# tensorflow\n",
    "from tensorflow.keras.models import Model\n",
    "from tensorflow.keras.layers import Input, Flatten, Dense, LeakyReLU\n",
    "from tensorflow.keras.optimizers import Adadelta\n",
    "from tensorflow.keras.callbacks import LearningRateScheduler\n",
    "from tensorflow.keras.preprocessing.image import ImageDataGenerator\n",
    "\n",
    "# sklearn\n",
    "from sklearn.metrics import confusion_matrix, accuracy_score, classification_report, roc_auc_score\n",
    "\n",
    "# imports\n",
    "import matplotlib.pyplot as plt\n",
    "import tensorflow as tf\n",
    "import numpy as np\n",
    "import cv2\n",
    "import os"
   ]
  },
  {
   "cell_type": "code",
   "execution_count": 11,
   "id": "3b81feac",
   "metadata": {},
   "outputs": [],
   "source": [
    "# Função para configurar o gerador de dados de imagem\n",
    "def configure_image_data_generator():\n",
    "    datagen = ImageDataGenerator(\n",
    "        rescale=1/255,\n",
    "        rotation_range=20,\n",
    "        width_shift_range=0.2,\n",
    "        height_shift_range=0.2,\n",
    "        shear_range=0.2,\n",
    "        zoom_range=0.2,\n",
    "        horizontal_flip=True,\n",
    "        fill_mode='nearest'\n",
    "    )\n",
    "    return datagen"
   ]
  },
  {
   "cell_type": "code",
   "execution_count": 12,
   "id": "06d78ac4",
   "metadata": {},
   "outputs": [],
   "source": [
    "# Função para carregar os dados de imagem\n",
    "def load_image_data(directory):\n",
    "    datagen = configure_image_data_generator()\n",
    "    return datagen.flow_from_directory(\n",
    "        directory,\n",
    "        target_size=(200, 200),\n",
    "        batch_size=3,\n",
    "        class_mode='categorical'\n",
    "    )"
   ]
  },
  {
   "cell_type": "code",
   "execution_count": 13,
   "id": "7c4a0889",
   "metadata": {},
   "outputs": [
    {
     "name": "stdout",
     "output_type": "stream",
     "text": [
      "Found 3213 images belonging to 3 classes.\n",
      "Found 1140 images belonging to 3 classes.\n",
      "Found 1052 images belonging to 3 classes.\n"
     ]
    }
   ],
   "source": [
    "# Carregar os dados de treinamento, validação e teste\n",
    "train_dataset = load_image_data('Dataset/training/')\n",
    "validation_dataset = load_image_data('Dataset/validation/')\n",
    "test_dataset = load_image_data('Dataset/testing/')"
   ]
  },
  {
   "cell_type": "code",
   "execution_count": 14,
   "id": "a852a973",
   "metadata": {
    "slideshow": {
     "slide_type": "-"
    }
   },
   "outputs": [],
   "source": [
    "# Definir a entrada da rede\n",
    "input_layer = Input(shape=(200, 200, 3))"
   ]
  },
  {
   "cell_type": "code",
   "execution_count": 15,
   "id": "2b4b9410",
   "metadata": {},
   "outputs": [],
   "source": [
    "# Definir as camadas da rede\n",
    "flatten_layer = Flatten()(input_layer)\n",
    "dense_layer1 = Dense(128, activation='relu')(flatten_layer)\n",
    "dense_layer2 = Dense(64, activation='relu')(dense_layer1)\n",
    "output_layer = Dense(3, activation='softmax')(dense_layer2)"
   ]
  },
  {
   "cell_type": "code",
   "execution_count": 16,
   "id": "c1f9ac51",
   "metadata": {
    "scrolled": true
   },
   "outputs": [],
   "source": [
    "# Criar o modelo\n",
    "model = Model(inputs=input_layer, \n",
    "              outputs=output_layer)"
   ]
  },
  {
   "cell_type": "code",
   "execution_count": 17,
   "id": "29bba11b",
   "metadata": {},
   "outputs": [],
   "source": [
    "# Compilar o modelo\n",
    "optimizer = Adadelta(learning_rate=1.0, rho=0.85)\n",
    "model.compile(optimizer=optimizer, \n",
    "              loss='categorical_crossentropy', \n",
    "              metrics=['accuracy'])"
   ]
  },
  {
   "cell_type": "code",
   "execution_count": 18,
   "id": "81256de6",
   "metadata": {
    "scrolled": false
   },
   "outputs": [
    {
     "name": "stdout",
     "output_type": "stream",
     "text": [
      "Epoch 1/10\n",
      "107/107 [==============================] - 123s 1s/step - loss: 6.6769 - accuracy: 0.3551 - val_loss: 1.5556 - val_accuracy: 0.4482\n",
      "Epoch 2/10\n",
      "107/107 [==============================] - 126s 1s/step - loss: 2.6924 - accuracy: 0.4081 - val_loss: 2.1888 - val_accuracy: 0.3412\n",
      "Epoch 3/10\n",
      "107/107 [==============================] - 136s 1s/step - loss: 1.9012 - accuracy: 0.4112 - val_loss: 1.1617 - val_accuracy: 0.3833\n",
      "Epoch 4/10\n",
      "107/107 [==============================] - 134s 1s/step - loss: 1.5308 - accuracy: 0.4268 - val_loss: 1.2471 - val_accuracy: 0.3175\n",
      "Epoch 5/10\n",
      "107/107 [==============================] - 67s 627ms/step - loss: 1.5557 - accuracy: 0.3894 - val_loss: 1.3067 - val_accuracy: 0.4763\n",
      "Epoch 6/10\n",
      "107/107 [==============================] - 47s 445ms/step - loss: 1.3113 - accuracy: 0.4393 - val_loss: 1.0934 - val_accuracy: 0.3114\n",
      "Epoch 7/10\n",
      "107/107 [==============================] - 53s 494ms/step - loss: 1.1303 - accuracy: 0.3427 - val_loss: 1.0982 - val_accuracy: 0.2991\n",
      "Epoch 8/10\n",
      "107/107 [==============================] - 56s 523ms/step - loss: 1.0892 - accuracy: 0.3707 - val_loss: 1.0820 - val_accuracy: 0.3219\n",
      "Epoch 9/10\n",
      "107/107 [==============================] - 58s 543ms/step - loss: 1.1464 - accuracy: 0.3053 - val_loss: 1.0975 - val_accuracy: 0.2982\n",
      "Epoch 10/10\n",
      "107/107 [==============================] - 57s 541ms/step - loss: 1.1341 - accuracy: 0.3769 - val_loss: 1.0933 - val_accuracy: 0.3561\n"
     ]
    }
   ],
   "source": [
    "# Treinar o modelo\n",
    "batch_size = 1\n",
    "history = model.fit(train_dataset, \n",
    "                    validation_data=validation_dataset,\n",
    "                    steps_per_epoch=len(train_dataset)//10, #batch_size,\n",
    "                    validation_steps=len(validation_dataset)//batch_size,\n",
    "                    epochs=10)"
   ]
  },
  {
   "cell_type": "code",
   "execution_count": 19,
   "id": "4190dfad",
   "metadata": {},
   "outputs": [
    {
     "name": "stdout",
     "output_type": "stream",
     "text": [
      "351/351 [==============================] - 39s 111ms/step\n"
     ]
    }
   ],
   "source": [
    "# Avaliar o modelo no conjunto de teste\n",
    "y_true = test_dataset.classes\n",
    "y_pred = model.predict(test_dataset)\n",
    "y_pred_classes = np.argmax(y_pred, axis=1)"
   ]
  },
  {
   "cell_type": "code",
   "execution_count": 20,
   "id": "e6fea5ca",
   "metadata": {},
   "outputs": [
    {
     "name": "stderr",
     "output_type": "stream",
     "text": [
      "C:\\Users\\luist\\anaconda3\\envs\\IC_project\\lib\\site-packages\\sklearn\\metrics\\_classification.py:1469: UndefinedMetricWarning: Precision and F-score are ill-defined and being set to 0.0 in labels with no predicted samples. Use `zero_division` parameter to control this behavior.\n",
      "  _warn_prf(average, modifier, msg_start, len(result))\n",
      "C:\\Users\\luist\\anaconda3\\envs\\IC_project\\lib\\site-packages\\sklearn\\metrics\\_classification.py:1469: UndefinedMetricWarning: Precision and F-score are ill-defined and being set to 0.0 in labels with no predicted samples. Use `zero_division` parameter to control this behavior.\n",
      "  _warn_prf(average, modifier, msg_start, len(result))\n",
      "C:\\Users\\luist\\anaconda3\\envs\\IC_project\\lib\\site-packages\\sklearn\\metrics\\_classification.py:1469: UndefinedMetricWarning: Precision and F-score are ill-defined and being set to 0.0 in labels with no predicted samples. Use `zero_division` parameter to control this behavior.\n",
      "  _warn_prf(average, modifier, msg_start, len(result))\n"
     ]
    }
   ],
   "source": [
    "# Calcular métricas\n",
    "confusion_mtx = confusion_matrix(y_true, y_pred_classes)\n",
    "accuracy = accuracy_score(y_true, y_pred_classes)\n",
    "classification_rep = classification_report(y_true, y_pred_classes)\n",
    "roc_auc = roc_auc_score(y_true, y_pred, multi_class='ovr')"
   ]
  },
  {
   "cell_type": "code",
   "execution_count": 21,
   "id": "069150e6",
   "metadata": {},
   "outputs": [
    {
     "name": "stdout",
     "output_type": "stream",
     "text": [
      "Matriz de Confusão:\n",
      "[[354   0   6]\n",
      " [361   0   7]\n",
      " [322   0   2]]\n",
      "\n",
      "Acurácia: 0.33840304182509506\n",
      "\n",
      "Classification Report:\n",
      "              precision    recall  f1-score   support\n",
      "\n",
      "           0       0.34      0.98      0.51       360\n",
      "           1       0.00      0.00      0.00       368\n",
      "           2       0.13      0.01      0.01       324\n",
      "\n",
      "    accuracy                           0.34      1052\n",
      "   macro avg       0.16      0.33      0.17      1052\n",
      "weighted avg       0.16      0.34      0.18      1052\n",
      "\n",
      "\n",
      "AUC-ROC: 0.4971443231227512\n"
     ]
    }
   ],
   "source": [
    "# Imprimir os resultados\n",
    "print(\"Matriz de Confusão:\")\n",
    "print(confusion_mtx)\n",
    "print(\"\\nAcurácia:\", accuracy)\n",
    "print(\"\\nClassification Report:\")\n",
    "print(classification_rep)\n",
    "print(\"\\nAUC-ROC:\", roc_auc)"
   ]
  }
 ],
 "metadata": {
  "kernelspec": {
   "display_name": "Python 3 (ipykernel)",
   "language": "python",
   "name": "python3"
  },
  "language_info": {
   "codemirror_mode": {
    "name": "ipython",
    "version": 3
   },
   "file_extension": ".py",
   "mimetype": "text/x-python",
   "name": "python",
   "nbconvert_exporter": "python",
   "pygments_lexer": "ipython3",
   "version": "3.9.18"
  }
 },
 "nbformat": 4,
 "nbformat_minor": 5
}
