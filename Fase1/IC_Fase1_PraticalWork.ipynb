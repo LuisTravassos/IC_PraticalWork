{
 "cells": [
  {
   "cell_type": "code",
   "execution_count": 45,
   "id": "1a7fa490",
   "metadata": {},
   "outputs": [],
   "source": [
    "#import libraries\n",
    "\n",
    "from tensorflow.keras.preprocessing.image import ImageDataGenerator\n",
    "from tensorflow.keras.preprocessing import image\n",
    "from tensorflow.keras.optimizers import RMSprop\n",
    "from sklearn.metrics import confusion_matrix\n",
    "from sklearn.metrics import accuracy_score, classification_report, roc_auc_score\n",
    "import matplotlib.pyplot as plt\n",
    "import tensorflow as tf\n",
    "import numpy as np\n",
    "import cv2\n",
    "import os"
   ]
  },
  {
   "cell_type": "code",
   "execution_count": 46,
   "id": "3b81feac",
   "metadata": {},
   "outputs": [],
   "source": [
    "#Configuração dos geradores de dados de treinamento e validação\n",
    "\n",
    "train = ImageDataGenerator(rescale=1/255) #Normalizar os valores de pixels para o intervalo [0,1]\n",
    "validation = ImageDataGenerator(rescale=1/255)\n",
    "test = ImageDataGenerator(rescale=1/255)"
   ]
  },
  {
   "cell_type": "code",
   "execution_count": 47,
   "id": "7c4a0889",
   "metadata": {},
   "outputs": [
    {
     "name": "stdout",
     "output_type": "stream",
     "text": [
      "Found 3213 images belonging to 3 classes.\n",
      "Found 1140 images belonging to 3 classes.\n",
      "Found 1052 images belonging to 3 classes.\n"
     ]
    }
   ],
   "source": [
    "#Carregar os dados de treinamento e validação\n",
    "\n",
    "train_dataset = train.flow_from_directory('Dataset/training/',\n",
    "                                         target_size = (200,200), #Redimensionar as imagens para 200x200 pixels\n",
    "                                         batch_size = 3, #numero de pixels por lote\n",
    "                                         class_mode = 'categorical') #Modo de classificação (categorica)\n",
    "\n",
    "validation_dataset = train.flow_from_directory('Dataset/validation/',\n",
    "                                         target_size = (200,200),\n",
    "                                         batch_size = 3,\n",
    "                                         class_mode = 'categorical')\n",
    "\n",
    "test_dataset = test.flow_from_directory('Dataset/testing/',\n",
    "                                         target_size=(200,200),\n",
    "                                         batch_size=3,\n",
    "                                         class_mode='categorical')"
   ]
  },
  {
   "cell_type": "code",
   "execution_count": 48,
   "id": "a852a973",
   "metadata": {},
   "outputs": [
    {
     "data": {
      "text/plain": [
       "{'clean': 0, 'litter': 1, 'recycle': 2}"
      ]
     },
     "execution_count": 48,
     "metadata": {},
     "output_type": "execute_result"
    }
   ],
   "source": [
    "#Verificar os indices das classes\n",
    "\n",
    "train_dataset.class_indices"
   ]
  },
  {
   "cell_type": "code",
   "execution_count": 49,
   "id": "c1f9ac51",
   "metadata": {
    "scrolled": true
   },
   "outputs": [],
   "source": [
    "# Definindo o modelo da rede neural (MLP)\n",
    "\n",
    "model = tf.keras.models.Sequential([\n",
    "    tf.keras.layers.Flatten(input_shape=(200, 200, 3)),  # Transforma os dados em um vetor\n",
    "    tf.keras.layers.Dense(512, activation='relu'),  # Camada densa com ativação ReLU\n",
    "    tf.keras.layers.Dropout(0.5),  # Adicionando Dropout para reduzir overfitting\n",
    "    tf.keras.layers.BatchNormalization(),  # Adicionando normalização em lotes\n",
    "    tf.keras.layers.Dense(256, activation='relu'),  # Camada densa com ativação ReLU\n",
    "    tf.keras.layers.Dense(128, activation='relu'),  # Adicionando mais uma camada densa\n",
    "    tf.keras.layers.Dense(3, activation='softmax')  # Camada de saída com ativação softmax (três classes)\n",
    "])"
   ]
  },
  {
   "cell_type": "code",
   "execution_count": 50,
   "id": "84045a03",
   "metadata": {},
   "outputs": [],
   "source": [
    "# Compilando o modelo com uma taxa de aprendizado ajustada\n",
    "\n",
    "model.compile(optimizer = RMSprop(learning_rate=0.01), #Otimizador RMSprop com taxa de aprendizado de 0.001\n",
    "             loss = 'binary_crossentropy', #Função de perda para classificação multiclasse\n",
    "             metrics=['accuracy']) #Métrica para avaliação do modelo"
   ]
  },
  {
   "cell_type": "code",
   "execution_count": 51,
   "id": "81256de6",
   "metadata": {
    "scrolled": true
   },
   "outputs": [
    {
     "name": "stdout",
     "output_type": "stream",
     "text": [
      "Epoch 1/15\n",
      "5/5 [==============================] - 4s 624ms/step - loss: 1.2022 - accuracy: 0.3333 - val_loss: 328.4907 - val_accuracy: 0.4667\n",
      "Epoch 2/15\n",
      "5/5 [==============================] - 2s 424ms/step - loss: 0.8641 - accuracy: 0.4667 - val_loss: 128.6798 - val_accuracy: 0.2000\n",
      "Epoch 3/15\n",
      "5/5 [==============================] - 2s 473ms/step - loss: 0.5996 - accuracy: 0.5333 - val_loss: 14.2835 - val_accuracy: 0.3333\n",
      "Epoch 4/15\n",
      "5/5 [==============================] - 2s 367ms/step - loss: 0.7907 - accuracy: 0.3333 - val_loss: 1.2041 - val_accuracy: 0.4000\n",
      "Epoch 5/15\n",
      "5/5 [==============================] - 2s 457ms/step - loss: 0.7502 - accuracy: 0.2000 - val_loss: 1.8402 - val_accuracy: 0.2000\n",
      "Epoch 6/15\n",
      "5/5 [==============================] - 2s 425ms/step - loss: 0.6973 - accuracy: 0.2000 - val_loss: 1.9012 - val_accuracy: 0.3333\n",
      "Epoch 7/15\n",
      "5/5 [==============================] - 2s 505ms/step - loss: 0.7292 - accuracy: 0.1333 - val_loss: 1.0501 - val_accuracy: 0.1333\n",
      "Epoch 8/15\n",
      "5/5 [==============================] - 2s 498ms/step - loss: 0.7366 - accuracy: 0.2000 - val_loss: 0.6867 - val_accuracy: 0.5333\n",
      "Epoch 9/15\n",
      "5/5 [==============================] - 4s 662ms/step - loss: 0.7064 - accuracy: 0.2000 - val_loss: 37.2049 - val_accuracy: 0.4667\n",
      "Epoch 10/15\n",
      "5/5 [==============================] - 2s 391ms/step - loss: 0.6154 - accuracy: 0.4000 - val_loss: 0.7362 - val_accuracy: 0.4000\n",
      "Epoch 11/15\n",
      "5/5 [==============================] - 2s 395ms/step - loss: 0.7017 - accuracy: 0.3333 - val_loss: 1.0418 - val_accuracy: 0.3333\n",
      "Epoch 12/15\n",
      "5/5 [==============================] - 2s 485ms/step - loss: 0.6610 - accuracy: 0.4000 - val_loss: 1.4014 - val_accuracy: 0.2667\n",
      "Epoch 13/15\n",
      "5/5 [==============================] - 2s 385ms/step - loss: 0.6248 - accuracy: 0.4667 - val_loss: 1.9947 - val_accuracy: 0.4667\n",
      "Epoch 14/15\n",
      "5/5 [==============================] - 2s 393ms/step - loss: 0.7086 - accuracy: 0.3333 - val_loss: 0.8507 - val_accuracy: 0.5333\n",
      "Epoch 15/15\n",
      "5/5 [==============================] - 2s 528ms/step - loss: 0.6201 - accuracy: 0.4000 - val_loss: 1.4313 - val_accuracy: 0.2667\n"
     ]
    }
   ],
   "source": [
    "# Treinando o modelo\n",
    "\n",
    "history = model.fit(train_dataset,\n",
    "          steps_per_epoch=5,  # Número total de lotes (batches) por época\n",
    "          epochs=15,  # Número de épocas de treinamento\n",
    "          validation_data=validation_dataset,  # Dados de validação\n",
    "          validation_steps=5)  # Número total de lotes (batches) de validação"
   ]
  },
  {
   "cell_type": "code",
   "execution_count": null,
   "id": "4190dfad",
   "metadata": {},
   "outputs": [
    {
     "name": "stdout",
     "output_type": "stream",
     "text": [
      "117/351 [=========>....................] - ETA: 13s"
     ]
    }
   ],
   "source": [
    "# Avaliação no conjunto de teste\n",
    "\n",
    "y_pred = model.predict(test_dataset)\n",
    "y_true = test_dataset.classes"
   ]
  },
  {
   "cell_type": "code",
   "execution_count": null,
   "id": "ffd6e38c",
   "metadata": {},
   "outputs": [],
   "source": [
    "# Calculando a matriz de confusão\n",
    "\n",
    "conf_matrix = confusion_matrix(y_true, y_pred.argmax(axis=1))"
   ]
  },
  {
   "cell_type": "code",
   "execution_count": null,
   "id": "e6fea5ca",
   "metadata": {},
   "outputs": [],
   "source": [
    "# Calculando outras métricas\n",
    "\n",
    "accuracy = accuracy_score(y_true, y_pred.argmax(axis=1))\n",
    "classification_rep = classification_report(y_true, y_pred.argmax(axis=1), zero_division=1)\n",
    "roc_auc = roc_auc_score(y_true, y_pred, multi_class='ovr')"
   ]
  },
  {
   "cell_type": "code",
   "execution_count": null,
   "id": "069150e6",
   "metadata": {},
   "outputs": [],
   "source": [
    "# Exibindo os resultados\n",
    "print(\"Matriz de Confusão:\")\n",
    "print(conf_matrix)\n",
    "\n",
    "print(\"\\nAccuracy:\", accuracy)\n",
    "print(\"\\nClassification Report:\")\n",
    "print(classification_rep)\n",
    "print(\"\\nAUC-ROC:\", roc_auc)"
   ]
  }
 ],
 "metadata": {
  "kernelspec": {
   "display_name": "Python 3 (ipykernel)",
   "language": "python",
   "name": "python3"
  },
  "language_info": {
   "codemirror_mode": {
    "name": "ipython",
    "version": 3
   },
   "file_extension": ".py",
   "mimetype": "text/x-python",
   "name": "python",
   "nbconvert_exporter": "python",
   "pygments_lexer": "ipython3",
   "version": "3.9.18"
  }
 },
 "nbformat": 4,
 "nbformat_minor": 5
}
