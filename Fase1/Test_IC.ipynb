{
 "cells": [
  {
   "cell_type": "code",
   "execution_count": 1,
   "id": "4739b3b6",
   "metadata": {},
   "outputs": [],
   "source": [
    "#Import libraries\n",
    "from sklearn.preprocessing import LabelEncoder, OneHotEncoder\n",
    "from sklearn.utils import shuffle\n",
    "from sklearn.model_selection import train_test_split\n",
    "from sklearn.metrics import confusion_matrix, accuracy_score, recall_score, f1_score, roc_auc_score, classification_report\n",
    "\n",
    "from tensorflow.keras.optimizers import Adam\n",
    "from tensorflow.keras.preprocessing.image import load_img, img_to_array\n",
    "\n",
    "import keras\n",
    "import tensorflow as tf\n",
    "\n",
    "import matplotlib.pyplot as plt\n",
    "import pandas as pd\n",
    "import numpy as np\n",
    "import cv2\n",
    "import os"
   ]
  },
  {
   "cell_type": "code",
   "execution_count": 2,
   "id": "41ed6ea4",
   "metadata": {},
   "outputs": [],
   "source": [
    "path = 'Dataset2/'\n",
    "im_size = 350"
   ]
  },
  {
   "cell_type": "code",
   "execution_count": 3,
   "id": "1ee137c1",
   "metadata": {},
   "outputs": [
    {
     "name": "stdout",
     "output_type": "stream",
     "text": [
      "['clean', 'litter', 'recycle']\n",
      "Types of streets found:  3\n"
     ]
    }
   ],
   "source": [
    "street_types = os.listdir(path)\n",
    "print(street_types)\n",
    "print(\"Types of streets found: \", len(street_types))"
   ]
  },
  {
   "cell_type": "code",
   "execution_count": 4,
   "id": "a4b579fd",
   "metadata": {},
   "outputs": [],
   "source": [
    "streets = []\n",
    "for item in street_types:\n",
    "    all_streets = os.listdir(path + '/' + item) #get all the file names\n",
    "    #print(all_streets)\n",
    "    \n",
    "    #Add them to the list\n",
    "    for street in all_streets:\n",
    "        streets.append((item, str(path + '/' + item) + '/' + street))\n",
    "        #print(streets[:1])"
   ]
  },
  {
   "cell_type": "code",
   "execution_count": 5,
   "id": "51e58641",
   "metadata": {},
   "outputs": [],
   "source": [
    "#Build a dataframe\n",
    "streets_df = pd.DataFrame(data=streets, columns=['street type', 'image'])\n",
    "#print(streets_df.head())\n",
    "#print(streets_df.tail())"
   ]
  },
  {
   "cell_type": "code",
   "execution_count": 6,
   "id": "7771de70",
   "metadata": {},
   "outputs": [
    {
     "name": "stdout",
     "output_type": "stream",
     "text": [
      "Total number of streets in the Dataset:  5405\n"
     ]
    }
   ],
   "source": [
    "#Let´s check how many samples for each category are present\n",
    "print(\"Total number of streets in the Dataset: \", len(streets_df))"
   ]
  },
  {
   "cell_type": "code",
   "execution_count": 7,
   "id": "9f42a6c6",
   "metadata": {},
   "outputs": [
    {
     "name": "stdout",
     "output_type": "stream",
     "text": [
      "streets in each category: \n",
      "street type\n",
      "recycle    1875\n",
      "clean      1825\n",
      "litter     1705\n",
      "Name: count, dtype: int64\n"
     ]
    }
   ],
   "source": [
    "street_count = streets_df['street type'].value_counts()\n",
    "print(\"streets in each category: \")\n",
    "print(street_count)"
   ]
  },
  {
   "cell_type": "code",
   "execution_count": 8,
   "id": "7bf5e7bc",
   "metadata": {},
   "outputs": [],
   "source": [
    "images = []\n",
    "labels = []\n",
    "\n",
    "for label in street_types:\n",
    "    data_path = os.path.join(path, label)\n",
    "    filenames = os.listdir(data_path)\n",
    "\n",
    "    for filename in filenames:\n",
    "        img_path = os.path.join(data_path, filename)\n",
    "        img = load_img(img_path, target_size=(im_size, im_size))  # Carrega a imagem\n",
    "        img_array = img_to_array(img)  # Converte a imagem para um array numpy\n",
    "        images.append(img_array)\n",
    "        labels.append(label)"
   ]
  },
  {
   "cell_type": "code",
   "execution_count": 10,
   "id": "24ad2cea",
   "metadata": {},
   "outputs": [
    {
     "data": {
      "text/plain": [
       "(5405, 350, 350, 3)"
      ]
     },
     "execution_count": 10,
     "metadata": {},
     "output_type": "execute_result"
    }
   ],
   "source": [
    "#Transform the image to a numpy type\n",
    "\n",
    "images = np.array(images)\n",
    "images = images.astype('float32')/255.0\n",
    "images.shape"
   ]
  },
  {
   "cell_type": "code",
   "execution_count": 116,
   "id": "2340848e",
   "metadata": {},
   "outputs": [],
   "source": [
    "y = streets_df['street type'].values\n",
    "#print(y[:5])\n",
    "\n",
    "y_labelenconder = LabelEncoder ()\n",
    "y = y_labelenconder.fit_transform (y)\n",
    "#print(y)"
   ]
  },
  {
   "cell_type": "code",
   "execution_count": 117,
   "id": "a2f04a05",
   "metadata": {},
   "outputs": [
    {
     "name": "stdout",
     "output_type": "stream",
     "text": [
      "(5134, 350, 350, 3)\n",
      "(271, 350, 350, 3)\n",
      "(5134,)\n",
      "(271,)\n"
     ]
    }
   ],
   "source": [
    "images, y = shuffle(images, y, random_state=1)\n",
    "train_x, test_x, train_y, test_y = train_test_split(images, y, test_size=0.05, random_state=415)\n",
    "\n",
    "print(train_x.shape)\n",
    "print(test_x.shape)\n",
    "print(train_y.shape)\n",
    "print(test_y.shape)"
   ]
  },
  {
   "cell_type": "code",
   "execution_count": 118,
   "id": "a847bf98",
   "metadata": {},
   "outputs": [],
   "source": [
    "model = keras.Sequential([\n",
    "    keras.layers.Flatten(input_shape=(im_size, im_size, 3)),\n",
    "    keras.layers.Dense(256, activation=tf.nn.tanh),\n",
    "    keras.layers.Dense(128, activation=tf.nn.relu),  # Camada densa adicional\n",
    "    keras.layers.Dense(64, activation=tf.nn.relu),   # Outra camada densa adicional\n",
    "    keras.layers.Dense(3, activation=tf.nn.softmax)\n",
    "])"
   ]
  },
  {
   "cell_type": "code",
   "execution_count": 119,
   "id": "cd8badc1",
   "metadata": {},
   "outputs": [],
   "source": [
    "model.compile(optimizer = Adam(learning_rate = 0.01),\n",
    "             loss = 'sparse_categorical_crossentropy',\n",
    "             metrics = ['accuracy'])"
   ]
  },
  {
   "cell_type": "code",
   "execution_count": 120,
   "id": "b9f0b3eb",
   "metadata": {},
   "outputs": [
    {
     "name": "stdout",
     "output_type": "stream",
     "text": [
      "Epoch 1/10\n",
      "81/81 [==============================] - 47s 521ms/step - loss: 1.2100 - accuracy: 0.3342 - val_loss: 1.1000 - val_accuracy: 0.3653\n",
      "Epoch 2/10\n",
      "81/81 [==============================] - 32s 391ms/step - loss: 1.1019 - accuracy: 0.3362 - val_loss: 1.0957 - val_accuracy: 0.3616\n",
      "Epoch 3/10\n",
      "81/81 [==============================] - 32s 391ms/step - loss: 1.0966 - accuracy: 0.3588 - val_loss: 1.0918 - val_accuracy: 0.3653\n",
      "Epoch 4/10\n",
      "81/81 [==============================] - 32s 391ms/step - loss: 1.0986 - accuracy: 0.3432 - val_loss: 1.0927 - val_accuracy: 0.3653\n",
      "Epoch 5/10\n",
      "81/81 [==============================] - 31s 385ms/step - loss: 1.0984 - accuracy: 0.3422 - val_loss: 1.0933 - val_accuracy: 0.3653\n",
      "Epoch 6/10\n",
      "81/81 [==============================] - 30s 366ms/step - loss: 1.0985 - accuracy: 0.3416 - val_loss: 1.0970 - val_accuracy: 0.3653\n",
      "Epoch 7/10\n",
      "81/81 [==============================] - 30s 368ms/step - loss: 1.0988 - accuracy: 0.3391 - val_loss: 1.0968 - val_accuracy: 0.3653\n",
      "Epoch 8/10\n",
      "81/81 [==============================] - 30s 367ms/step - loss: 1.0983 - accuracy: 0.3420 - val_loss: 1.0936 - val_accuracy: 0.3653\n",
      "Epoch 9/10\n",
      "81/81 [==============================] - 30s 367ms/step - loss: 1.0985 - accuracy: 0.3389 - val_loss: 1.0952 - val_accuracy: 0.3653\n",
      "Epoch 10/10\n",
      "81/81 [==============================] - 29s 363ms/step - loss: 1.0984 - accuracy: 0.3407 - val_loss: 1.0946 - val_accuracy: 0.3653\n"
     ]
    },
    {
     "data": {
      "text/plain": [
       "<keras.callbacks.History at 0x13c6f8d0af0>"
      ]
     },
     "execution_count": 120,
     "metadata": {},
     "output_type": "execute_result"
    }
   ],
   "source": [
    "model.fit(train_x, \n",
    "          train_y, \n",
    "          epochs=10, \n",
    "          batch_size=64, \n",
    "          validation_data=(test_x, test_y))"
   ]
  },
  {
   "cell_type": "code",
   "execution_count": 121,
   "id": "df8536b3",
   "metadata": {},
   "outputs": [
    {
     "name": "stdout",
     "output_type": "stream",
     "text": [
      "9/9 [==============================] - 1s 95ms/step\n"
     ]
    }
   ],
   "source": [
    "y_probs = model.predict(test_x)\n",
    "y_pred = np.argmax(y_probs, axis=1)"
   ]
  },
  {
   "cell_type": "code",
   "execution_count": 122,
   "id": "c392b373",
   "metadata": {},
   "outputs": [
    {
     "name": "stdout",
     "output_type": "stream",
     "text": [
      "Matriz de Confusão:\n",
      "[[ 0  0 98]\n",
      " [ 0  0 74]\n",
      " [ 0  0 99]]\n",
      "              precision    recall  f1-score   support\n",
      "\n",
      "       clean       1.00      0.00      0.00        98\n",
      "      litter       1.00      0.00      0.00        74\n",
      "     recycle       0.37      1.00      0.54        99\n",
      "\n",
      "    accuracy                           0.37       271\n",
      "   macro avg       0.79      0.33      0.18       271\n",
      "weighted avg       0.77      0.37      0.20       271\n",
      "\n",
      "AUC para classe ['clean', 'litter', 'recycle']: 0.5\n",
      "AUC para classe ['clean', 'litter', 'recycle']: 0.5\n",
      "AUC para classe ['clean', 'litter', 'recycle']: 0.5\n"
     ]
    }
   ],
   "source": [
    "confusion = confusion_matrix(test_y, y_pred)\n",
    "print(\"Matriz de Confusão:\")\n",
    "print(confusion)\n",
    "\n",
    "report = classification_report(test_y, y_pred, target_names=street_types, zero_division=1)\n",
    "print(report)\n",
    "\n",
    "# Calcule o AUC para cada classe\n",
    "for i in range(len(street_types)):\n",
    "    auc = roc_auc_score(test_y == i, y_probs[:, i])\n",
    "    print(f\"AUC para classe {street_types}: {auc}\")"
   ]
  }
 ],
 "metadata": {
  "kernelspec": {
   "display_name": "Python 3 (ipykernel)",
   "language": "python",
   "name": "python3"
  },
  "language_info": {
   "codemirror_mode": {
    "name": "ipython",
    "version": 3
   },
   "file_extension": ".py",
   "mimetype": "text/x-python",
   "name": "python",
   "nbconvert_exporter": "python",
   "pygments_lexer": "ipython3",
   "version": "3.9.18"
  }
 },
 "nbformat": 4,
 "nbformat_minor": 5
}
