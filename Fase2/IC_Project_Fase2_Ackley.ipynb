{
 "cells": [
  {
   "cell_type": "code",
   "execution_count": 5,
   "id": "517bc6ba",
   "metadata": {},
   "outputs": [],
   "source": [
    "from SwarmPackagePy import gwo\n",
    "import numpy as np"
   ]
  },
  {
   "cell_type": "code",
   "execution_count": 6,
   "id": "ea80d505",
   "metadata": {},
   "outputs": [],
   "source": [
    "# Definir a função objetivo, por exemplo, a função Ackley\n",
    "def ackley_function(x):\n",
    "    a = 20\n",
    "    b = 0.2\n",
    "    c = 2 * np.pi\n",
    "    d = len(x)  # Dimensão do vetor de entrada\n",
    "    sum_sq_term = -a * np.exp(-b * np.sqrt(sum(x**2) / d))\n",
    "    cos_term = -np.exp(sum(np.cos(c * x) / d))\n",
    "    result = a + np.exp(1) + sum_sq_term + cos_term\n",
    "    return result"
   ]
  },
  {
   "cell_type": "code",
   "execution_count": 7,
   "id": "9195b138",
   "metadata": {},
   "outputs": [],
   "source": [
    "# Parâmetros do GWO\n",
    "n_agents = 100\n",
    "n_iterations = 100\n",
    "dimension = 3  # Duas dimensões\n",
    "lower_bound = -32.768\n",
    "upper_bound = 32.768\n",
    "\n",
    "# Executar o algoritmo GWO\n",
    "optimizer = gwo(n_agents, ackley_function, lower_bound, upper_bound, dimension, n_iterations)"
   ]
  },
  {
   "cell_type": "code",
   "execution_count": 8,
   "id": "f2241b30",
   "metadata": {
    "scrolled": false
   },
   "outputs": [
    {
     "name": "stdout",
     "output_type": "stream",
     "text": [
      "Melhor posição: [2.9278990147543366e-16, 1.1782291597397856e-17, 2.828315148236302e-16]\n"
     ]
    }
   ],
   "source": [
    "best_position = optimizer.get_Gbest()\n",
    "\n",
    "# Exibir os resultados\n",
    "print(f\"Melhor posição: {best_position}\")"
   ]
  }
 ],
 "metadata": {
  "kernelspec": {
   "display_name": "Python 3 (ipykernel)",
   "language": "python",
   "name": "python3"
  },
  "language_info": {
   "codemirror_mode": {
    "name": "ipython",
    "version": 3
   },
   "file_extension": ".py",
   "mimetype": "text/x-python",
   "name": "python",
   "nbconvert_exporter": "python",
   "pygments_lexer": "ipython3",
   "version": "3.9.18"
  }
 },
 "nbformat": 4,
 "nbformat_minor": 5
}
