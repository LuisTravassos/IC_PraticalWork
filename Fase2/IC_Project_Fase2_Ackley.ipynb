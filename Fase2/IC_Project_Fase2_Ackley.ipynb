{
 "cells": [
  {
   "cell_type": "code",
   "execution_count": 1,
   "id": "517bc6ba",
   "metadata": {},
   "outputs": [],
   "source": [
    "import numpy as np\n",
    "import pyswarms as ps"
   ]
  },
  {
   "cell_type": "code",
   "execution_count": 2,
   "id": "ea80d505",
   "metadata": {},
   "outputs": [],
   "source": [
    "# Definição da função de Ackley\n",
    "def ackley_function(x):\n",
    "    a = 20\n",
    "    b = 0.2\n",
    "    c = 2 * np.pi\n",
    "    d = len(x)  # Dimensão do vetor de entrada\n",
    "    sum_sq_term = -a * np.exp(-b * np.sqrt(np.sum(x**2) / d))\n",
    "    cos_term = -np.exp(np.sum(np.cos(c * x) / d))\n",
    "    result = sum_sq_term + cos_term + a + np.exp(1)\n",
    "    return result"
   ]
  },
  {
   "cell_type": "code",
   "execution_count": 3,
   "id": "9195b138",
   "metadata": {},
   "outputs": [],
   "source": [
    "# Definindo os limites do espaço de busca para a função de Ackley\n",
    "# Estes são os limites comuns para testar a função de Ackley\n",
    "bounds = (np.array([-32.768] * 2), np.array([32.768] * 2))  # Ajuste para 2 dimensões\n",
    "\n",
    "# Definindo os limites do espaço de busca para a função de Ackley para 3 dimensões\n",
    "#bounds = (np.array([-32.768] * 3), np.array([32.768] * 3))  # Ajuste para 3 dimensões\n",
    "\n",
    "# Configurações do PSO\n",
    "options = {'c1': 1.0, 'c2': 1.0, 'w': 0.9}\n",
    "\n",
    "# Inicializando o PSO\n",
    "optimizer = ps.single.GlobalBestPSO(n_particles=100, \n",
    "                                    dimensions=2, \n",
    "                                    options=options, \n",
    "                                    bounds=bounds)"
   ]
  },
  {
   "cell_type": "code",
   "execution_count": 4,
   "id": "f2241b30",
   "metadata": {
    "scrolled": false
   },
   "outputs": [
    {
     "name": "stderr",
     "output_type": "stream",
     "text": [
      "2023-11-08 01:32:35,717 - pyswarms.single.global_best - INFO - Optimize for 100 iters with {'c1': 1.0, 'c2': 1.0, 'w': 0.9}\n",
      "pyswarms.single.global_best: 100%|██████████|100/100, best_cost=21.1\n",
      "2023-11-08 01:32:35,814 - pyswarms.single.global_best - INFO - Optimization finished | best cost: 21.09636481361932, best pos: [ 8.02127805 31.26075498]\n"
     ]
    },
    {
     "name": "stdout",
     "output_type": "stream",
     "text": [
      "Melhor custo encontrado: 21.09636481361932\n",
      "Melhor posição encontrada: [ 8.02127805 31.26075498]\n"
     ]
    }
   ],
   "source": [
    "# Executando a otimização\n",
    "cost, pos = optimizer.optimize(ackley_function, iters=100)\n",
    "\n",
    "# Imprimindo o resultado da otimização\n",
    "print(f\"Melhor custo encontrado: {cost}\")\n",
    "print(f\"Melhor posição encontrada: {pos}\")"
   ]
  }
 ],
 "metadata": {
  "kernelspec": {
   "display_name": "Python 3 (ipykernel)",
   "language": "python",
   "name": "python3"
  },
  "language_info": {
   "codemirror_mode": {
    "name": "ipython",
    "version": 3
   },
   "file_extension": ".py",
   "mimetype": "text/x-python",
   "name": "python",
   "nbconvert_exporter": "python",
   "pygments_lexer": "ipython3",
   "version": "3.9.18"
  }
 },
 "nbformat": 4,
 "nbformat_minor": 5
}
