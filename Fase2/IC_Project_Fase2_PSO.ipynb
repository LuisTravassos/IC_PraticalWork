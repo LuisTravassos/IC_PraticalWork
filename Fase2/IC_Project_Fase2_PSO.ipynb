{
 "cells": [
  {
   "cell_type": "code",
   "execution_count": 13,
   "id": "bb30917d",
   "metadata": {},
   "outputs": [],
   "source": [
    "from tensorflow.keras import Sequential\n",
    "from tensorflow.keras.layers import Conv2D, MaxPooling2D, Flatten, Dense, Dropout\n",
    "from tensorflow.keras.optimizers import Adam\n",
    "from tensorflow.keras.preprocessing.image import load_img, img_to_array\n",
    "\n",
    "from tensorflow.keras.utils import to_categorical\n",
    "\n",
    "from sklearn.model_selection import train_test_split\n",
    "from sklearn.metrics import confusion_matrix, classification_report, roc_auc_score\n",
    "from sklearn.preprocessing import label_binarize\n",
    "from sklearn.preprocessing import LabelEncoder\n",
    "from sklearn.utils import shuffle\n",
    "\n",
    "import pyswarms as ps\n",
    "import numpy as np\n",
    "import pandas as pd\n",
    "import os"
   ]
  },
  {
   "cell_type": "code",
   "execution_count": 2,
   "id": "57818837",
   "metadata": {},
   "outputs": [],
   "source": [
    "def create_street_data(path, street_types, im_size):\n",
    "    images, labels = [], []\n",
    "    streets = [(item, os.path.join(path, item, street)) \n",
    "               for item in street_types \n",
    "               for street in os.listdir(os.path.join(path, item))]\n",
    "    streets_df = pd.DataFrame(streets, columns=['street type', 'image'])\n",
    "    \n",
    "    for _, row in streets_df.iterrows():\n",
    "        img = load_img(row['image'], target_size=(im_size, im_size))\n",
    "        images.append(img_to_array(img))\n",
    "        labels.append(row['street type'])\n",
    "    \n",
    "    return np.array(images, dtype='float32') / 255.0, np.array(labels)"
   ]
  },
  {
   "cell_type": "code",
   "execution_count": 3,
   "id": "3eb589dd",
   "metadata": {},
   "outputs": [],
   "source": [
    "# Define o tamanho da imagem e os tipos de rua\n",
    "im_size = 350  # Exemplo de tamanho de imagem\n",
    "\n",
    "\"\"\"\n",
    "street_types = ['Apple', 'Banana', 'Cocos']\n",
    "path = '../DatasetFruits/'\n",
    "path_test = '../DatasetFruits_Test/'\n",
    "\"\"\"\n",
    "\n",
    "street_types = ['clean', 'litter', 'recycle']\n",
    "path = '../Dataset/'\n",
    "path_test = '../Dataset_Test/'"
   ]
  },
  {
   "cell_type": "code",
   "execution_count": 4,
   "id": "fa9f77c2",
   "metadata": {},
   "outputs": [
    {
     "name": "stdout",
     "output_type": "stream",
     "text": [
      "Streets in each category: recycle    1675\n",
      "clean      1625\n",
      "litter     1505\n",
      "dtype: int64\n"
     ]
    }
   ],
   "source": [
    "# Criando dados de treino, validação e teste\n",
    "train_images, train_labels = create_street_data(path, street_types, im_size)\n",
    "test_images, test_labels = create_street_data(path_test, street_types, im_size)\n",
    "\n",
    "# Contando as ocorrências de cada tipo de rua e imprimindo\n",
    "streets_count = pd.value_counts(train_labels)\n",
    "print(\"Streets in each category:\", streets_count)"
   ]
  },
  {
   "cell_type": "code",
   "execution_count": 5,
   "id": "b32e0eb3",
   "metadata": {},
   "outputs": [
    {
     "name": "stdout",
     "output_type": "stream",
     "text": [
      "Train shape: (3844, 350, 350, 3)\n",
      "Validation shape: (961, 350, 350, 3)\n",
      "Test shape: (600, 350, 350, 3)\n"
     ]
    }
   ],
   "source": [
    "# Convertendo etiquetas para valores numéricos\n",
    "label_encoder = LabelEncoder()\n",
    "train_labels_encoded = label_encoder.fit_transform(train_labels)\n",
    "test_labels_encoded = label_encoder.transform(test_labels)\n",
    "\n",
    "# Embaralhando e dividindo os dados de treino e validação\n",
    "train_x, val_x, train_y, val_y = train_test_split(train_images, train_labels_encoded, test_size=0.2, random_state=415)\n",
    "\n",
    "# Imprimindo as formas dos conjuntos de dados\n",
    "print(f\"Train shape: {train_x.shape}\")\n",
    "print(f\"Validation shape: {val_x.shape}\")\n",
    "print(f\"Test shape: {test_images.shape}\")"
   ]
  },
  {
   "cell_type": "code",
   "execution_count": 20,
   "id": "b829c21c",
   "metadata": {},
   "outputs": [],
   "source": [
    "# Defina as funções de treinamento de rede e fitness para o PSO\n",
    "def train_network(hyperparameters, train_x, train_y, val_x, val_y):\n",
    "    learning_rate, dropout_rate = hyperparameters\n",
    "    \n",
    "    # Definindo o modelo da rede neural convolucional\n",
    "    model = Sequential([\n",
    "        Conv2D(64, (3, 3), activation='relu', input_shape=(im_size, im_size, 3)),\n",
    "        MaxPooling2D((2, 2)),\n",
    "        \n",
    "        Flatten(),\n",
    "        \n",
    "        Dropout(dropout_rate),\n",
    "        \n",
    "        Dense(len(street_types), activation='softmax')   \n",
    "    ])\n",
    "    \n",
    "    model.compile(optimizer=Adam(slearning_rate),\n",
    "                  loss='sparse_categorical_crossentropy',\n",
    "                  metrics=['accuracy'])\n",
    "    \n",
    "    model.fit(train_x, \n",
    "              train_y, \n",
    "              epochs=5,\n",
    "              validation_data=(val_x, val_y), \n",
    "              verbose=0)\n",
    "    \n",
    "    validation_loss, validation_accuracy = model.evaluate(val_x, val_y, verbose=0)\n",
    "    \n",
    "    return validation_loss"
   ]
  },
  {
   "cell_type": "code",
   "execution_count": 19,
   "id": "37a7d919",
   "metadata": {},
   "outputs": [],
   "source": [
    "def fitness_function(x, train_x, train_y, val_x, val_y):\n",
    "    \n",
    "    n_particles = x.shape[0]\n",
    "    \n",
    "    losses = []\n",
    "    \n",
    "    for i in range(n_particles):\n",
    "        # x[i] contém os hiperparâmetros para a i-ésima partícula\n",
    "        hyperparameters = x[i]\n",
    "        loss = train_network(hyperparameters, train_x, train_y, val_x, val_y)\n",
    "        losses.append(loss)\n",
    "        \n",
    "    return np.array(losses)"
   ]
  },
  {
   "cell_type": "code",
   "execution_count": 8,
   "id": "14a03f8b",
   "metadata": {},
   "outputs": [
    {
     "name": "stderr",
     "output_type": "stream",
     "text": [
      "2023-11-08 11:44:11,151 - pyswarms.single.global_best - INFO - Optimize for 5 iters with {'c1': 0.5, 'c2': 0.3, 'w': 0.9}\n",
      "pyswarms.single.global_best: 100%|██████████|5/5, best_cost=0.196\n",
      "2023-11-08 16:33:36,606 - pyswarms.single.global_best - INFO - Optimization finished | best cost: 0.19598796963691711, best pos: [0.00018259 0.10997558]\n"
     ]
    }
   ],
   "source": [
    "# Inicializando o otimizador GlobalBestPSO do pyswarms\n",
    "bounds = [(0.0001, 0.1), (0.0, 0.5)]  # (min_learning_rate, max_learning_rate), (min_dropout_rate, max_dropout_rate)\n",
    "options = {'c1': 0.5, 'c2': 0.3, 'w': 0.9}\n",
    "\n",
    "optimizer = ps.single.GlobalBestPSO(n_particles=5, \n",
    "                                    dimensions=2, \n",
    "                                    options=options, \n",
    "                                    bounds=bounds)\n",
    "\n",
    "# Executando o PSO para encontrar os melhores hiperparâmetros\n",
    "cost, best_pos = optimizer.optimize(fitness_function, \n",
    "                                    iters=5, \n",
    "                                    train_x=train_x, \n",
    "                                    train_y=train_y, \n",
    "                                    val_x=val_x, \n",
    "                                    val_y=val_y)\n",
    "\n",
    "best_learning_rate, best_dropout_rate = best_pos"
   ]
  },
  {
   "cell_type": "code",
   "execution_count": 10,
   "id": "0e26aa68",
   "metadata": {},
   "outputs": [
    {
     "name": "stdout",
     "output_type": "stream",
     "text": [
      "Epoch 1/5\n",
      "121/121 [==============================] - 130s 1s/step - loss: 1.9571 - accuracy: 0.6178 - val_loss: 0.4793 - val_accuracy: 0.8283\n",
      "Epoch 2/5\n",
      "121/121 [==============================] - 136s 1s/step - loss: 0.2733 - accuracy: 0.9030 - val_loss: 0.3185 - val_accuracy: 0.8835\n",
      "Epoch 3/5\n",
      "121/121 [==============================] - 139s 1s/step - loss: 0.1069 - accuracy: 0.9740 - val_loss: 0.2301 - val_accuracy: 0.9334\n",
      "Epoch 4/5\n",
      "121/121 [==============================] - 139s 1s/step - loss: 0.0509 - accuracy: 0.9919 - val_loss: 0.2401 - val_accuracy: 0.9303\n",
      "Epoch 5/5\n",
      "121/121 [==============================] - 143s 1s/step - loss: 0.0303 - accuracy: 0.9971 - val_loss: 0.2104 - val_accuracy: 0.9407\n"
     ]
    }
   ],
   "source": [
    "final_model = Sequential([\n",
    "    Conv2D(64, (3, 3), activation='relu', input_shape=(im_size, im_size, 3)),\n",
    "    MaxPooling2D((2, 2)),\n",
    "\n",
    "    Flatten(),\n",
    "\n",
    "    Dropout(best_dropout_rate),\n",
    "\n",
    "    Dense(len(street_types), activation='softmax')    \n",
    "])\n",
    "\n",
    "final_model.compile(optimizer=Adam(best_learning_rate),\n",
    "                    loss='sparse_categorical_crossentropy',\n",
    "                    metrics=['accuracy'])\n",
    "\n",
    "history = final_model.fit(train_x, \n",
    "                          train_y, \n",
    "                          epochs=5,\n",
    "                          validation_data=(val_x, val_y))"
   ]
  },
  {
   "cell_type": "code",
   "execution_count": 15,
   "id": "0e1165c5",
   "metadata": {},
   "outputs": [
    {
     "name": "stdout",
     "output_type": "stream",
     "text": [
      "19/19 [==============================] - 3s 163ms/step - loss: 0.2312 - accuracy: 0.9250\n",
      "19/19 [==============================] - 3s 162ms/step\n",
      "Best learning rate: 0.00018258859132538424\n",
      "Best dropout rate: 0.10997558109383135\n"
     ]
    }
   ],
   "source": [
    "test_loss, test_accuracy = final_model.evaluate(test_images, test_labels_encoded, verbose=1);\n",
    "\n",
    "y_pred_test = final_model.predict(test_images);\n",
    "y_pred_test_classes = np.argmax(y_pred_test, axis=1);\n",
    "\n",
    "y_true = test_labels_encoded;\n",
    "y_true_binarized = label_binarize(test_labels_encoded, classes=np.unique(test_labels_encoded));"
   ]
  },
  {
   "cell_type": "code",
   "execution_count": 17,
   "id": "fb4cbb99",
   "metadata": {},
   "outputs": [
    {
     "name": "stdout",
     "output_type": "stream",
     "text": [
      "Best learning rate: 0.00018258859132538424\n",
      "Best dropout rate: 0.10997558109383135\n",
      "\n",
      "Test accuracy: 92.50%\n",
      "\n",
      "Confusion Matrix:\n",
      "[[176  20   4]\n",
      " [  8 192   0]\n",
      " [ 12   1 187]]\n",
      "\n",
      "Classification Report:\n",
      "              precision    recall  f1-score   support\n",
      "\n",
      "       clean       0.90      0.88      0.89       200\n",
      "      litter       0.90      0.96      0.93       200\n",
      "     recycle       0.98      0.94      0.96       200\n",
      "\n",
      "    accuracy                           0.93       600\n",
      "   macro avg       0.93      0.92      0.93       600\n",
      "weighted avg       0.93      0.93      0.93       600\n",
      "\n",
      "\n",
      "\n",
      "AUC for class clean: 0.98\n",
      "AUC for class litter: 0.99\n",
      "AUC for class recycle: 0.99\n"
     ]
    }
   ],
   "source": [
    "print(f\"Best learning rate: {best_learning_rate}\")\n",
    "print(f\"Best dropout rate: {best_dropout_rate}\")\n",
    "\n",
    "# Avaliação do modelo nos dados de teste\n",
    "print(f\"\\nTest accuracy: {test_accuracy*100:.2f}%\" + \"\\n\");\n",
    "\n",
    "# Matriz de confusão\n",
    "confusion_mtx = confusion_matrix(y_true, y_pred_test_classes)\n",
    "print(\"Confusion Matrix:\")\n",
    "print(confusion_mtx)\n",
    "\n",
    "# Relatório de classificação\n",
    "class_report = classification_report(y_true, y_pred_test_classes, target_names=label_encoder.classes_)\n",
    "print(\"\\nClassification Report:\")\n",
    "print(class_report)\n",
    "print(\"\\n\")\n",
    "\n",
    "# Calculando o AUC para cada classe\n",
    "for i in range(y_true_binarized.shape[1]):  # Percorre cada classe\n",
    "    auc_score = roc_auc_score(y_true_binarized[:, i], y_pred_test[:, i])\n",
    "    print(f'AUC for class {label_encoder.classes_[i]}: {auc_score:.2f}')"
   ]
  }
 ],
 "metadata": {
  "kernelspec": {
   "display_name": "Python 3 (ipykernel)",
   "language": "python",
   "name": "python3"
  },
  "language_info": {
   "codemirror_mode": {
    "name": "ipython",
    "version": 3
   },
   "file_extension": ".py",
   "mimetype": "text/x-python",
   "name": "python",
   "nbconvert_exporter": "python",
   "pygments_lexer": "ipython3",
   "version": "3.9.18"
  }
 },
 "nbformat": 4,
 "nbformat_minor": 5
}
